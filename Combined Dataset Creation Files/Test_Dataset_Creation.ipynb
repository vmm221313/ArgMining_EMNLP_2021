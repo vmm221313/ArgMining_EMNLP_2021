{
  "nbformat": 4,
  "nbformat_minor": 0,
  "metadata": {
    "colab": {
      "name": "Test Dataset Creation.ipynb",
      "provenance": [],
      "collapsed_sections": []
    },
    "kernelspec": {
      "name": "python3",
      "display_name": "Python 3"
    },
    "language_info": {
      "name": "python"
    }
  },
  "cells": [
    {
      "cell_type": "code",
      "metadata": {
        "colab": {
          "base_uri": "https://localhost:8080/"
        },
        "id": "pmXyxC6XMn4h",
        "outputId": "2e3948b3-7db8-4e21-e347-583e398f7850"
      },
      "source": [
        "cd /content/drive/MyDrive/EMNLP_Argmining2021/dataset"
      ],
      "execution_count": null,
      "outputs": [
        {
          "output_type": "stream",
          "text": [
            "/content/drive/.shortcut-targets-by-id/1gYHPfB1C1sP2rYLCxvRDGYtX4ypMGY-K/EMNLP_Argmining2021/dataset\n"
          ],
          "name": "stdout"
        }
      ]
    },
    {
      "cell_type": "markdown",
      "metadata": {
        "id": "tiFkz90j-BWZ"
      },
      "source": [
        "## Importing the Required Libraries"
      ]
    },
    {
      "cell_type": "code",
      "metadata": {
        "id": "zqo42TePM0P6"
      },
      "source": [
        "import pandas as pd\n",
        "import numpy as np\n",
        "from tqdm import tqdm\n",
        "from matplotlib import pyplot\n",
        "import seaborn as sns\n",
        "import os\n",
        "import re"
      ],
      "execution_count": null,
      "outputs": []
    },
    {
      "cell_type": "markdown",
      "metadata": {
        "id": "9Iox7-Sf-ZBI"
      },
      "source": [
        "### Loading the Dataset"
      ]
    },
    {
      "cell_type": "code",
      "metadata": {
        "colab": {
          "base_uri": "https://localhost:8080/",
          "height": 220
        },
        "id": "jQBiKiUVM44L",
        "outputId": "a9d77d47-b820-4e6e-e27f-28b7665f9cb8"
      },
      "source": [
        "df_arg = pd.read_csv('/content/drive/MyDrive/EMNLP_Argmining2021/dataset/arguments_test.csv')\n",
        "df_kp = pd.read_csv('/content/drive/MyDrive/EMNLP_Argmining2021/dataset/key_points_test.csv')\n",
        "\n",
        "print(df_arg.shape,df_kp.shape)\n",
        "df_kp.head()"
      ],
      "execution_count": null,
      "outputs": [
        {
          "output_type": "stream",
          "text": [
            "(723, 4) (33, 4)\n"
          ],
          "name": "stdout"
        },
        {
          "output_type": "execute_result",
          "data": {
            "text/html": [
              "<div>\n",
              "<style scoped>\n",
              "    .dataframe tbody tr th:only-of-type {\n",
              "        vertical-align: middle;\n",
              "    }\n",
              "\n",
              "    .dataframe tbody tr th {\n",
              "        vertical-align: top;\n",
              "    }\n",
              "\n",
              "    .dataframe thead th {\n",
              "        text-align: right;\n",
              "    }\n",
              "</style>\n",
              "<table border=\"1\" class=\"dataframe\">\n",
              "  <thead>\n",
              "    <tr style=\"text-align: right;\">\n",
              "      <th></th>\n",
              "      <th>key_point_id</th>\n",
              "      <th>key_point</th>\n",
              "      <th>topic</th>\n",
              "      <th>stance</th>\n",
              "    </tr>\n",
              "  </thead>\n",
              "  <tbody>\n",
              "    <tr>\n",
              "      <th>0</th>\n",
              "      <td>kp_0_0</td>\n",
              "      <td>Routine child vaccinations, or their side effe...</td>\n",
              "      <td>Routine child vaccinations should be mandatory</td>\n",
              "      <td>-1</td>\n",
              "    </tr>\n",
              "    <tr>\n",
              "      <th>1</th>\n",
              "      <td>kp_0_1</td>\n",
              "      <td>Mandatory vaccination contradicts basic rights</td>\n",
              "      <td>Routine child vaccinations should be mandatory</td>\n",
              "      <td>-1</td>\n",
              "    </tr>\n",
              "    <tr>\n",
              "      <th>2</th>\n",
              "      <td>kp_0_2</td>\n",
              "      <td>The parents and not the state should decide</td>\n",
              "      <td>Routine child vaccinations should be mandatory</td>\n",
              "      <td>-1</td>\n",
              "    </tr>\n",
              "    <tr>\n",
              "      <th>3</th>\n",
              "      <td>kp_0_3</td>\n",
              "      <td>Routine child vaccinations are not necessary t...</td>\n",
              "      <td>Routine child vaccinations should be mandatory</td>\n",
              "      <td>-1</td>\n",
              "    </tr>\n",
              "    <tr>\n",
              "      <th>4</th>\n",
              "      <td>kp_0_4</td>\n",
              "      <td>Routine child vaccinations are effective</td>\n",
              "      <td>Routine child vaccinations should be mandatory</td>\n",
              "      <td>1</td>\n",
              "    </tr>\n",
              "  </tbody>\n",
              "</table>\n",
              "</div>"
            ],
            "text/plain": [
              "  key_point_id  ... stance\n",
              "0       kp_0_0  ...     -1\n",
              "1       kp_0_1  ...     -1\n",
              "2       kp_0_2  ...     -1\n",
              "3       kp_0_3  ...     -1\n",
              "4       kp_0_4  ...      1\n",
              "\n",
              "[5 rows x 4 columns]"
            ]
          },
          "metadata": {
            "tags": []
          },
          "execution_count": 3
        }
      ]
    },
    {
      "cell_type": "code",
      "metadata": {
        "colab": {
          "base_uri": "https://localhost:8080/",
          "height": 203
        },
        "id": "xoeSbr_GND3T",
        "outputId": "57ac754f-8521-41d4-9d31-bacab5c34fc1"
      },
      "source": [
        "df_arg.head()"
      ],
      "execution_count": null,
      "outputs": [
        {
          "output_type": "execute_result",
          "data": {
            "text/html": [
              "<div>\n",
              "<style scoped>\n",
              "    .dataframe tbody tr th:only-of-type {\n",
              "        vertical-align: middle;\n",
              "    }\n",
              "\n",
              "    .dataframe tbody tr th {\n",
              "        vertical-align: top;\n",
              "    }\n",
              "\n",
              "    .dataframe thead th {\n",
              "        text-align: right;\n",
              "    }\n",
              "</style>\n",
              "<table border=\"1\" class=\"dataframe\">\n",
              "  <thead>\n",
              "    <tr style=\"text-align: right;\">\n",
              "      <th></th>\n",
              "      <th>arg_id</th>\n",
              "      <th>argument</th>\n",
              "      <th>topic</th>\n",
              "      <th>stance</th>\n",
              "    </tr>\n",
              "  </thead>\n",
              "  <tbody>\n",
              "    <tr>\n",
              "      <th>0</th>\n",
              "      <td>arg_0_0</td>\n",
              "      <td>Routine child vaccinations isn't mandatory sin...</td>\n",
              "      <td>Routine child vaccinations should be mandatory</td>\n",
              "      <td>-1</td>\n",
              "    </tr>\n",
              "    <tr>\n",
              "      <th>1</th>\n",
              "      <td>arg_0_1</td>\n",
              "      <td>Routine child vaccinations should not be manda...</td>\n",
              "      <td>Routine child vaccinations should be mandatory</td>\n",
              "      <td>-1</td>\n",
              "    </tr>\n",
              "    <tr>\n",
              "      <th>2</th>\n",
              "      <td>arg_0_2</td>\n",
              "      <td>Routine child vaccinations should not be neces...</td>\n",
              "      <td>Routine child vaccinations should be mandatory</td>\n",
              "      <td>-1</td>\n",
              "    </tr>\n",
              "    <tr>\n",
              "      <th>3</th>\n",
              "      <td>arg_0_3</td>\n",
              "      <td>A vaccine that has not been sufficiently teste...</td>\n",
              "      <td>Routine child vaccinations should be mandatory</td>\n",
              "      <td>-1</td>\n",
              "    </tr>\n",
              "    <tr>\n",
              "      <th>4</th>\n",
              "      <td>arg_0_4</td>\n",
              "      <td>As long as vaccines are not free of side effec...</td>\n",
              "      <td>Routine child vaccinations should be mandatory</td>\n",
              "      <td>-1</td>\n",
              "    </tr>\n",
              "  </tbody>\n",
              "</table>\n",
              "</div>"
            ],
            "text/plain": [
              "    arg_id  ... stance\n",
              "0  arg_0_0  ...     -1\n",
              "1  arg_0_1  ...     -1\n",
              "2  arg_0_2  ...     -1\n",
              "3  arg_0_3  ...     -1\n",
              "4  arg_0_4  ...     -1\n",
              "\n",
              "[5 rows x 4 columns]"
            ]
          },
          "metadata": {
            "tags": []
          },
          "execution_count": 4
        }
      ]
    },
    {
      "cell_type": "code",
      "metadata": {
        "id": "VNSqTxVdQyHi"
      },
      "source": [
        ""
      ],
      "execution_count": null,
      "outputs": []
    },
    {
      "cell_type": "code",
      "metadata": {
        "id": "fq_1pZUwNdQN"
      },
      "source": [
        "def give_tuples(df_arguments,df_key_points):\n",
        "\n",
        "  arguments = []\n",
        "  key_points = []\n",
        "  topics = []\n",
        "  stance = []\n",
        "  arg_ids =[]\n",
        "  kp_ids = []\n",
        "\n",
        "  for i,j,k,l in tqdm(zip(df_arguments['argument'],df_arguments['topic'],df_arguments['stance'],df_arguments['arg_id'])):\n",
        "    df = df_key_points[(df_key_points['topic'] == j) & (df_key_points['stance'] == k)]\n",
        "    #print()\n",
        "    #print(j)\n",
        "    #print(k)\n",
        "\n",
        "    if(df.shape[0]>0):\n",
        "      for o,p in zip(df['key_point'],df['key_point_id']):\n",
        "        arguments.append(i)\n",
        "        key_points.append(o)\n",
        "        topics.append(j)\n",
        "        stance.append(k)\n",
        "        arg_ids.append(l)\n",
        "        kp_ids.append(p)\n",
        "\n",
        "    \n",
        "\n",
        "  return arguments,key_points,topics, stance,arg_ids,kp_ids"
      ],
      "execution_count": null,
      "outputs": []
    },
    {
      "cell_type": "code",
      "metadata": {
        "colab": {
          "base_uri": "https://localhost:8080/"
        },
        "id": "UFW4Nko9PsXo",
        "outputId": "49254367-e417-4a07-b78d-b0f547b7bce1"
      },
      "source": [
        "args,kps,topics,stance,arg_ids,kp_ids = give_tuples(df_arg,df_kp)"
      ],
      "execution_count": null,
      "outputs": [
        {
          "output_type": "stream",
          "text": [
            "723it [00:00, 1002.97it/s]\n"
          ],
          "name": "stderr"
        }
      ]
    },
    {
      "cell_type": "code",
      "metadata": {
        "colab": {
          "base_uri": "https://localhost:8080/",
          "height": 287
        },
        "id": "maadu92EP4MI",
        "outputId": "de090bd5-df65-4c0a-ae07-29e1618d42a5"
      },
      "source": [
        "pred = pd.DataFrame({'arg_id':arg_ids,'key_point_id':kp_ids,'argument':args, 'keypoint':kps, 'topic' : topics , 'stance': stance})\n",
        "\n",
        "pred.head()"
      ],
      "execution_count": null,
      "outputs": [
        {
          "output_type": "execute_result",
          "data": {
            "text/html": [
              "<div>\n",
              "<style scoped>\n",
              "    .dataframe tbody tr th:only-of-type {\n",
              "        vertical-align: middle;\n",
              "    }\n",
              "\n",
              "    .dataframe tbody tr th {\n",
              "        vertical-align: top;\n",
              "    }\n",
              "\n",
              "    .dataframe thead th {\n",
              "        text-align: right;\n",
              "    }\n",
              "</style>\n",
              "<table border=\"1\" class=\"dataframe\">\n",
              "  <thead>\n",
              "    <tr style=\"text-align: right;\">\n",
              "      <th></th>\n",
              "      <th>arg_id</th>\n",
              "      <th>key_point_id</th>\n",
              "      <th>argument</th>\n",
              "      <th>keypoint</th>\n",
              "      <th>topic</th>\n",
              "      <th>stance</th>\n",
              "    </tr>\n",
              "  </thead>\n",
              "  <tbody>\n",
              "    <tr>\n",
              "      <th>0</th>\n",
              "      <td>arg_0_0</td>\n",
              "      <td>kp_0_0</td>\n",
              "      <td>Routine child vaccinations isn't mandatory sin...</td>\n",
              "      <td>Routine child vaccinations, or their side effe...</td>\n",
              "      <td>Routine child vaccinations should be mandatory</td>\n",
              "      <td>-1</td>\n",
              "    </tr>\n",
              "    <tr>\n",
              "      <th>1</th>\n",
              "      <td>arg_0_0</td>\n",
              "      <td>kp_0_1</td>\n",
              "      <td>Routine child vaccinations isn't mandatory sin...</td>\n",
              "      <td>Mandatory vaccination contradicts basic rights</td>\n",
              "      <td>Routine child vaccinations should be mandatory</td>\n",
              "      <td>-1</td>\n",
              "    </tr>\n",
              "    <tr>\n",
              "      <th>2</th>\n",
              "      <td>arg_0_0</td>\n",
              "      <td>kp_0_2</td>\n",
              "      <td>Routine child vaccinations isn't mandatory sin...</td>\n",
              "      <td>The parents and not the state should decide</td>\n",
              "      <td>Routine child vaccinations should be mandatory</td>\n",
              "      <td>-1</td>\n",
              "    </tr>\n",
              "    <tr>\n",
              "      <th>3</th>\n",
              "      <td>arg_0_0</td>\n",
              "      <td>kp_0_3</td>\n",
              "      <td>Routine child vaccinations isn't mandatory sin...</td>\n",
              "      <td>Routine child vaccinations are not necessary t...</td>\n",
              "      <td>Routine child vaccinations should be mandatory</td>\n",
              "      <td>-1</td>\n",
              "    </tr>\n",
              "    <tr>\n",
              "      <th>4</th>\n",
              "      <td>arg_0_1</td>\n",
              "      <td>kp_0_0</td>\n",
              "      <td>Routine child vaccinations should not be manda...</td>\n",
              "      <td>Routine child vaccinations, or their side effe...</td>\n",
              "      <td>Routine child vaccinations should be mandatory</td>\n",
              "      <td>-1</td>\n",
              "    </tr>\n",
              "  </tbody>\n",
              "</table>\n",
              "</div>"
            ],
            "text/plain": [
              "    arg_id key_point_id  ...                                           topic stance\n",
              "0  arg_0_0       kp_0_0  ...  Routine child vaccinations should be mandatory     -1\n",
              "1  arg_0_0       kp_0_1  ...  Routine child vaccinations should be mandatory     -1\n",
              "2  arg_0_0       kp_0_2  ...  Routine child vaccinations should be mandatory     -1\n",
              "3  arg_0_0       kp_0_3  ...  Routine child vaccinations should be mandatory     -1\n",
              "4  arg_0_1       kp_0_0  ...  Routine child vaccinations should be mandatory     -1\n",
              "\n",
              "[5 rows x 6 columns]"
            ]
          },
          "metadata": {
            "tags": []
          },
          "execution_count": 39
        }
      ]
    },
    {
      "cell_type": "code",
      "metadata": {
        "colab": {
          "base_uri": "https://localhost:8080/"
        },
        "id": "pBxm5EriQ_1r",
        "outputId": "bc3428f7-78ea-4374-d5eb-de098c0a1cba"
      },
      "source": [
        "pred.shape"
      ],
      "execution_count": null,
      "outputs": [
        {
          "output_type": "execute_result",
          "data": {
            "text/plain": [
              "(3923, 6)"
            ]
          },
          "metadata": {
            "tags": []
          },
          "execution_count": 40
        }
      ]
    },
    {
      "cell_type": "code",
      "metadata": {
        "id": "pkHJxIC8Smar"
      },
      "source": [
        "pred.to_csv('/content/drive/MyDrive/EMNLP_Argmining2021/dataset/final_test.csv')"
      ],
      "execution_count": null,
      "outputs": []
    }
  ]
}