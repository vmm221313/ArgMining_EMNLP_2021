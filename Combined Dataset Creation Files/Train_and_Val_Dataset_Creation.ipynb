{
  "nbformat": 4,
  "nbformat_minor": 0,
  "metadata": {
    "colab": {
      "name": "Train and Val Dataset Creation.ipynb",
      "provenance": [],
      "collapsed_sections": []
    },
    "kernelspec": {
      "name": "python3",
      "display_name": "Python 3"
    },
    "language_info": {
      "name": "python"
    },
    "accelerator": "GPU"
  },
  "cells": [
    {
      "cell_type": "code",
      "metadata": {
        "colab": {
          "base_uri": "https://localhost:8080/"
        },
        "id": "hwgW43vdD2pF",
        "outputId": "2ef5711f-322b-4128-8e29-71015783680a"
      },
      "source": [
        "!nvidia-smi"
      ],
      "execution_count": null,
      "outputs": [
        {
          "output_type": "stream",
          "text": [
            "Thu Jun 24 04:02:48 2021       \n",
            "+-----------------------------------------------------------------------------+\n",
            "| NVIDIA-SMI 465.27       Driver Version: 460.32.03    CUDA Version: 11.2     |\n",
            "|-------------------------------+----------------------+----------------------+\n",
            "| GPU  Name        Persistence-M| Bus-Id        Disp.A | Volatile Uncorr. ECC |\n",
            "| Fan  Temp  Perf  Pwr:Usage/Cap|         Memory-Usage | GPU-Util  Compute M. |\n",
            "|                               |                      |               MIG M. |\n",
            "|===============================+======================+======================|\n",
            "|   0  Tesla T4            Off  | 00000000:00:04.0 Off |                    0 |\n",
            "| N/A   50C    P8    10W /  70W |      0MiB / 15109MiB |      0%      Default |\n",
            "|                               |                      |                  N/A |\n",
            "+-------------------------------+----------------------+----------------------+\n",
            "                                                                               \n",
            "+-----------------------------------------------------------------------------+\n",
            "| Processes:                                                                  |\n",
            "|  GPU   GI   CI        PID   Type   Process name                  GPU Memory |\n",
            "|        ID   ID                                                   Usage      |\n",
            "|=============================================================================|\n",
            "|  No running processes found                                                 |\n",
            "+-----------------------------------------------------------------------------+\n"
          ],
          "name": "stdout"
        }
      ]
    },
    {
      "cell_type": "code",
      "metadata": {
        "colab": {
          "base_uri": "https://localhost:8080/"
        },
        "id": "6mWv_L0ggrIs",
        "outputId": "cb204c15-c146-485a-ee56-d42bbce4d85b"
      },
      "source": [
        "cd /content/drive/MyDrive/EMNLP_Argmining2021"
      ],
      "execution_count": null,
      "outputs": [
        {
          "output_type": "stream",
          "text": [
            "/content/drive/MyDrive/EMNLP_Argmining2021\n"
          ],
          "name": "stdout"
        }
      ]
    },
    {
      "cell_type": "code",
      "metadata": {
        "colab": {
          "base_uri": "https://localhost:8080/"
        },
        "id": "uyEdpwPVL0kh",
        "outputId": "282526d4-d290-4be2-aa5d-f706bdcd4748"
      },
      "source": [
        "from google.colab import drive\n",
        "drive.mount('/content/drive')"
      ],
      "execution_count": null,
      "outputs": [
        {
          "output_type": "stream",
          "text": [
            "Mounted at /content/drive\n"
          ],
          "name": "stdout"
        }
      ]
    },
    {
      "cell_type": "markdown",
      "metadata": {
        "id": "mJ7NbmvV-Fug"
      },
      "source": [
        "## Importing the Required Libraries"
      ]
    },
    {
      "cell_type": "code",
      "metadata": {
        "id": "3yd6PsGlg5K7"
      },
      "source": [
        "import pandas as pd\n",
        "import numpy as np\n",
        "from matplotlib import pyplot\n",
        "import seaborn as sns\n",
        "import os\n",
        "import re"
      ],
      "execution_count": null,
      "outputs": []
    },
    {
      "cell_type": "markdown",
      "metadata": {
        "id": "PssHZaai-Wpp"
      },
      "source": [
        "### Loading the Dataset"
      ]
    },
    {
      "cell_type": "code",
      "metadata": {
        "id": "k7LXzFG6hMu0"
      },
      "source": [
        "gold_data_dir = '/content/drive/MyDrive/EMNLP_Argmining2021/dataset/'"
      ],
      "execution_count": null,
      "outputs": []
    },
    {
      "cell_type": "code",
      "metadata": {
        "id": "rDix1euag9_6"
      },
      "source": [
        "def load_kpm_data(gold_data_dir, subset):\n",
        "    arguments_file = os.path.join(gold_data_dir, f\"arguments_{subset}.csv\")\n",
        "    key_points_file = os.path.join(gold_data_dir, f\"key_points_{subset}.csv\")\n",
        "    #labels_file = os.path.join(gold_data_dir, f\"labels_{subset}.csv\")\n",
        "\n",
        "    arguments_df = pd.read_csv(arguments_file)\n",
        "    key_points_df = pd.read_csv(key_points_file)\n",
        "    #labels_file_df = pd.read_csv(labels_file)\n",
        "\n",
        "    return arguments_df, key_points_df"
      ],
      "execution_count": null,
      "outputs": []
    },
    {
      "cell_type": "code",
      "metadata": {
        "id": "yGyb_tEBhTzr"
      },
      "source": [
        "df_arguments,df_key_points,df_labels = load_kpm_data(gold_data_dir,'train')"
      ],
      "execution_count": null,
      "outputs": []
    },
    {
      "cell_type": "code",
      "metadata": {
        "id": "b_-JO_Ni7FwE"
      },
      "source": [
        "df_arguments_val,df_key_points_val = load_kpm_data(gold_data_dir,'dev')"
      ],
      "execution_count": null,
      "outputs": []
    },
    {
      "cell_type": "code",
      "metadata": {
        "colab": {
          "base_uri": "https://localhost:8080/",
          "height": 212
        },
        "id": "_256oMnehc_x",
        "outputId": "482f5aa9-5f9c-428e-eba9-37d0d73abe6c"
      },
      "source": [
        "print(df_arguments.shape)\n",
        "df_arguments.head()"
      ],
      "execution_count": null,
      "outputs": [
        {
          "output_type": "stream",
          "text": [
            "(5583, 4)\n"
          ],
          "name": "stdout"
        },
        {
          "output_type": "execute_result",
          "data": {
            "text/html": [
              "<div>\n",
              "<style scoped>\n",
              "    .dataframe tbody tr th:only-of-type {\n",
              "        vertical-align: middle;\n",
              "    }\n",
              "\n",
              "    .dataframe tbody tr th {\n",
              "        vertical-align: top;\n",
              "    }\n",
              "\n",
              "    .dataframe thead th {\n",
              "        text-align: right;\n",
              "    }\n",
              "</style>\n",
              "<table border=\"1\" class=\"dataframe\">\n",
              "  <thead>\n",
              "    <tr style=\"text-align: right;\">\n",
              "      <th></th>\n",
              "      <th>arg_id</th>\n",
              "      <th>argument</th>\n",
              "      <th>topic</th>\n",
              "      <th>stance</th>\n",
              "    </tr>\n",
              "  </thead>\n",
              "  <tbody>\n",
              "    <tr>\n",
              "      <th>0</th>\n",
              "      <td>arg_0_0</td>\n",
              "      <td>`people reach their limit when it comes to the...</td>\n",
              "      <td>Assisted suicide should be a criminal offence</td>\n",
              "      <td>-1</td>\n",
              "    </tr>\n",
              "    <tr>\n",
              "      <th>1</th>\n",
              "      <td>arg_0_1</td>\n",
              "      <td>A patient should be able to decide when they h...</td>\n",
              "      <td>Assisted suicide should be a criminal offence</td>\n",
              "      <td>-1</td>\n",
              "    </tr>\n",
              "    <tr>\n",
              "      <th>2</th>\n",
              "      <td>arg_0_2</td>\n",
              "      <td>a person has the right to end their suffering ...</td>\n",
              "      <td>Assisted suicide should be a criminal offence</td>\n",
              "      <td>-1</td>\n",
              "    </tr>\n",
              "    <tr>\n",
              "      <th>3</th>\n",
              "      <td>arg_0_3</td>\n",
              "      <td>a person should have the dignity to choose how...</td>\n",
              "      <td>Assisted suicide should be a criminal offence</td>\n",
              "      <td>-1</td>\n",
              "    </tr>\n",
              "    <tr>\n",
              "      <th>4</th>\n",
              "      <td>arg_0_4</td>\n",
              "      <td>a person should have the right to be able to c...</td>\n",
              "      <td>Assisted suicide should be a criminal offence</td>\n",
              "      <td>-1</td>\n",
              "    </tr>\n",
              "  </tbody>\n",
              "</table>\n",
              "</div>"
            ],
            "text/plain": [
              "    arg_id  ... stance\n",
              "0  arg_0_0  ...     -1\n",
              "1  arg_0_1  ...     -1\n",
              "2  arg_0_2  ...     -1\n",
              "3  arg_0_3  ...     -1\n",
              "4  arg_0_4  ...     -1\n",
              "\n",
              "[5 rows x 4 columns]"
            ]
          },
          "metadata": {
            "tags": []
          },
          "execution_count": 10
        }
      ]
    },
    {
      "cell_type": "code",
      "metadata": {
        "colab": {
          "base_uri": "https://localhost:8080/",
          "height": 212
        },
        "id": "5IWJHOwYhejD",
        "outputId": "0168d8e7-809d-438e-ad7e-8a6165286c4e"
      },
      "source": [
        "print(df_key_points.shape)\n",
        "df_key_points.head()"
      ],
      "execution_count": null,
      "outputs": [
        {
          "output_type": "stream",
          "text": [
            "(207, 4)\n"
          ],
          "name": "stdout"
        },
        {
          "output_type": "execute_result",
          "data": {
            "text/html": [
              "<div>\n",
              "<style scoped>\n",
              "    .dataframe tbody tr th:only-of-type {\n",
              "        vertical-align: middle;\n",
              "    }\n",
              "\n",
              "    .dataframe tbody tr th {\n",
              "        vertical-align: top;\n",
              "    }\n",
              "\n",
              "    .dataframe thead th {\n",
              "        text-align: right;\n",
              "    }\n",
              "</style>\n",
              "<table border=\"1\" class=\"dataframe\">\n",
              "  <thead>\n",
              "    <tr style=\"text-align: right;\">\n",
              "      <th></th>\n",
              "      <th>key_point_id</th>\n",
              "      <th>key_point</th>\n",
              "      <th>topic</th>\n",
              "      <th>stance</th>\n",
              "    </tr>\n",
              "  </thead>\n",
              "  <tbody>\n",
              "    <tr>\n",
              "      <th>0</th>\n",
              "      <td>kp_0_0</td>\n",
              "      <td>Assisted suicide gives dignity to the person t...</td>\n",
              "      <td>Assisted suicide should be a criminal offence</td>\n",
              "      <td>-1</td>\n",
              "    </tr>\n",
              "    <tr>\n",
              "      <th>1</th>\n",
              "      <td>kp_0_1</td>\n",
              "      <td>Assisted suicide reduces suffering</td>\n",
              "      <td>Assisted suicide should be a criminal offence</td>\n",
              "      <td>-1</td>\n",
              "    </tr>\n",
              "    <tr>\n",
              "      <th>2</th>\n",
              "      <td>kp_0_2</td>\n",
              "      <td>People should have the freedom to choose to en...</td>\n",
              "      <td>Assisted suicide should be a criminal offence</td>\n",
              "      <td>-1</td>\n",
              "    </tr>\n",
              "    <tr>\n",
              "      <th>3</th>\n",
              "      <td>kp_0_3</td>\n",
              "      <td>The terminally ill would benefit from assisted...</td>\n",
              "      <td>Assisted suicide should be a criminal offence</td>\n",
              "      <td>-1</td>\n",
              "    </tr>\n",
              "    <tr>\n",
              "      <th>4</th>\n",
              "      <td>kp_0_4</td>\n",
              "      <td>Assisted suicide allows people to solicit some...</td>\n",
              "      <td>Assisted suicide should be a criminal offence</td>\n",
              "      <td>1</td>\n",
              "    </tr>\n",
              "  </tbody>\n",
              "</table>\n",
              "</div>"
            ],
            "text/plain": [
              "  key_point_id  ... stance\n",
              "0       kp_0_0  ...     -1\n",
              "1       kp_0_1  ...     -1\n",
              "2       kp_0_2  ...     -1\n",
              "3       kp_0_3  ...     -1\n",
              "4       kp_0_4  ...      1\n",
              "\n",
              "[5 rows x 4 columns]"
            ]
          },
          "metadata": {
            "tags": []
          },
          "execution_count": 11
        }
      ]
    },
    {
      "cell_type": "code",
      "metadata": {
        "colab": {
          "base_uri": "https://localhost:8080/",
          "height": 195
        },
        "id": "u-n1y6QmhgJe",
        "outputId": "9dfd38f4-b57b-4e2f-8b19-60c693976b54"
      },
      "source": [
        "df_labels.head()"
      ],
      "execution_count": null,
      "outputs": [
        {
          "output_type": "execute_result",
          "data": {
            "text/html": [
              "<div>\n",
              "<style scoped>\n",
              "    .dataframe tbody tr th:only-of-type {\n",
              "        vertical-align: middle;\n",
              "    }\n",
              "\n",
              "    .dataframe tbody tr th {\n",
              "        vertical-align: top;\n",
              "    }\n",
              "\n",
              "    .dataframe thead th {\n",
              "        text-align: right;\n",
              "    }\n",
              "</style>\n",
              "<table border=\"1\" class=\"dataframe\">\n",
              "  <thead>\n",
              "    <tr style=\"text-align: right;\">\n",
              "      <th></th>\n",
              "      <th>arg_id</th>\n",
              "      <th>key_point_id</th>\n",
              "      <th>label</th>\n",
              "    </tr>\n",
              "  </thead>\n",
              "  <tbody>\n",
              "    <tr>\n",
              "      <th>0</th>\n",
              "      <td>arg_0_0</td>\n",
              "      <td>kp_0_0</td>\n",
              "      <td>0</td>\n",
              "    </tr>\n",
              "    <tr>\n",
              "      <th>1</th>\n",
              "      <td>arg_0_121</td>\n",
              "      <td>kp_0_4</td>\n",
              "      <td>0</td>\n",
              "    </tr>\n",
              "    <tr>\n",
              "      <th>2</th>\n",
              "      <td>arg_0_121</td>\n",
              "      <td>kp_0_5</td>\n",
              "      <td>0</td>\n",
              "    </tr>\n",
              "    <tr>\n",
              "      <th>3</th>\n",
              "      <td>arg_0_121</td>\n",
              "      <td>kp_0_6</td>\n",
              "      <td>1</td>\n",
              "    </tr>\n",
              "    <tr>\n",
              "      <th>4</th>\n",
              "      <td>arg_0_121</td>\n",
              "      <td>kp_0_7</td>\n",
              "      <td>0</td>\n",
              "    </tr>\n",
              "  </tbody>\n",
              "</table>\n",
              "</div>"
            ],
            "text/plain": [
              "      arg_id key_point_id  label\n",
              "0    arg_0_0       kp_0_0      0\n",
              "1  arg_0_121       kp_0_4      0\n",
              "2  arg_0_121       kp_0_5      0\n",
              "3  arg_0_121       kp_0_6      1\n",
              "4  arg_0_121       kp_0_7      0"
            ]
          },
          "metadata": {
            "tags": []
          },
          "execution_count": 12
        }
      ]
    },
    {
      "cell_type": "code",
      "metadata": {
        "id": "hsDPx3GLhhzI"
      },
      "source": [
        "argument_train = []\n",
        "key_point_train = []\n",
        "topic_train = []\n",
        "stance_train = []\n",
        "\n",
        "argument_val = []\n",
        "key_point_val = []\n",
        "topic_val = []\n",
        "stance_val = []"
      ],
      "execution_count": null,
      "outputs": []
    },
    {
      "cell_type": "code",
      "metadata": {
        "id": "k_d-JMNw-_vr"
      },
      "source": [
        "a = df_arguments[df_arguments['arg_id'] == 'arg_1_121'].argument.index[0]"
      ],
      "execution_count": null,
      "outputs": []
    },
    {
      "cell_type": "code",
      "metadata": {
        "colab": {
          "base_uri": "https://localhost:8080/"
        },
        "id": "2cEGCvpj_wLW",
        "outputId": "4a6a94ed-8955-418f-dde4-e96e6b8978c4"
      },
      "source": [
        "print(a)"
      ],
      "execution_count": null,
      "outputs": [
        {
          "output_type": "stream",
          "text": [
            "367\n"
          ],
          "name": "stdout"
        }
      ]
    },
    {
      "cell_type": "code",
      "metadata": {
        "colab": {
          "base_uri": "https://localhost:8080/"
        },
        "id": "F7yWQy9QAVuN",
        "outputId": "466fe9b2-3366-46a1-f508-6806be0c06d1"
      },
      "source": [
        "df_arguments[df_arguments['arg_id'] == 'arg_1_121'].stance[367]"
      ],
      "execution_count": null,
      "outputs": [
        {
          "output_type": "execute_result",
          "data": {
            "text/plain": [
              "-1"
            ]
          },
          "metadata": {
            "tags": []
          },
          "execution_count": 13
        }
      ]
    },
    {
      "cell_type": "code",
      "metadata": {
        "colab": {
          "base_uri": "https://localhost:8080/"
        },
        "id": "ONpEVU3Z_Get",
        "outputId": "61e9b8b2-1226-481f-835c-6d55b4b58a1f"
      },
      "source": [
        "df_arguments[df_arguments['arg_id'] == 'arg_0_0']['topic']"
      ],
      "execution_count": null,
      "outputs": [
        {
          "output_type": "execute_result",
          "data": {
            "text/plain": [
              "0    Assisted suicide should be a criminal offence\n",
              "Name: topic, dtype: object"
            ]
          },
          "metadata": {
            "tags": []
          },
          "execution_count": 14
        }
      ]
    },
    {
      "cell_type": "code",
      "metadata": {
        "colab": {
          "base_uri": "https://localhost:8080/",
          "height": 35
        },
        "id": "bv0vzEBe_Lfs",
        "outputId": "9ee015bb-9d32-43db-b32e-c4af6d60e862"
      },
      "source": [
        "df_key_points[df_key_points['key_point_id'] == 'kp_0_0']['key_point'][0]"
      ],
      "execution_count": null,
      "outputs": [
        {
          "output_type": "execute_result",
          "data": {
            "application/vnd.google.colaboratory.intrinsic+json": {
              "type": "string"
            },
            "text/plain": [
              "'Assisted suicide gives dignity to the person that wants to commit it'"
            ]
          },
          "metadata": {
            "tags": []
          },
          "execution_count": 15
        }
      ]
    },
    {
      "cell_type": "code",
      "metadata": {
        "colab": {
          "base_uri": "https://localhost:8080/"
        },
        "id": "ALJSWxWoAUvP",
        "outputId": "48b6a161-f50a-4571-a55a-e77639e05d9a"
      },
      "source": [
        "text = 'arg_0_121'\n",
        "\n",
        "int(re.split('_',text)[-1])"
      ],
      "execution_count": null,
      "outputs": [
        {
          "output_type": "execute_result",
          "data": {
            "text/plain": [
              "121"
            ]
          },
          "metadata": {
            "tags": []
          },
          "execution_count": 16
        }
      ]
    },
    {
      "cell_type": "markdown",
      "metadata": {
        "id": "lyfJ96vFEPcw"
      },
      "source": [
        "## Train and Validation files"
      ]
    },
    {
      "cell_type": "code",
      "metadata": {
        "id": "8-5D7tRG78ut"
      },
      "source": [
        "def give_tuples(df_labels,df_arguments,df_key_points):\n",
        "\n",
        "  arguments = []\n",
        "  key_points = []\n",
        "  topics = []\n",
        "  stance = []\n",
        "\n",
        "  for i,j in zip(df_labels['arg_id'],df_labels['key_point_id']):\n",
        "\n",
        "    \n",
        "    idx_arg = df_arguments[df_arguments['arg_id'] == i ].argument.index[0]\n",
        "    idx_kp = df_key_points[df_key_points['key_point_id'] == j ].key_point.index[0]\n",
        "\n",
        "    arguments.append(df_arguments[df_arguments['arg_id'] == i]['argument'][idx_arg])\n",
        "    topics.append(df_arguments[df_arguments['arg_id'] == i]['topic'][idx_arg])\n",
        "    key_points.append(df_key_points[df_key_points['key_point_id'] == j]['key_point'][idx_kp])\n",
        "    stance.append(df_key_points[df_key_points['key_point_id'] == j]['stance'][idx_kp])\n",
        "\n",
        "  return arguments,key_points,topics, stance"
      ],
      "execution_count": null,
      "outputs": []
    },
    {
      "cell_type": "code",
      "metadata": {
        "id": "0y9tHptU_Xn5"
      },
      "source": [
        "argument_train, key_point_train, topic_train,stance_train   = give_tuples(df_labels,df_arguments,df_key_points)"
      ],
      "execution_count": null,
      "outputs": []
    },
    {
      "cell_type": "code",
      "metadata": {
        "colab": {
          "base_uri": "https://localhost:8080/",
          "height": 279
        },
        "id": "NqW9uto-_iIi",
        "outputId": "11b75649-0a54-41ee-a48e-060b0df41b5a"
      },
      "source": [
        "df_labels['arg'] = argument_train\n",
        "df_labels['key_point'] = key_point_train\n",
        "df_labels['topic'] = topic_train\n",
        "df_labels['stance'] = stance_train\n",
        "\n",
        "df_labels.head()"
      ],
      "execution_count": null,
      "outputs": [
        {
          "output_type": "execute_result",
          "data": {
            "text/html": [
              "<div>\n",
              "<style scoped>\n",
              "    .dataframe tbody tr th:only-of-type {\n",
              "        vertical-align: middle;\n",
              "    }\n",
              "\n",
              "    .dataframe tbody tr th {\n",
              "        vertical-align: top;\n",
              "    }\n",
              "\n",
              "    .dataframe thead th {\n",
              "        text-align: right;\n",
              "    }\n",
              "</style>\n",
              "<table border=\"1\" class=\"dataframe\">\n",
              "  <thead>\n",
              "    <tr style=\"text-align: right;\">\n",
              "      <th></th>\n",
              "      <th>arg_id</th>\n",
              "      <th>key_point_id</th>\n",
              "      <th>label</th>\n",
              "      <th>arg</th>\n",
              "      <th>key_point</th>\n",
              "      <th>topic</th>\n",
              "      <th>stance</th>\n",
              "    </tr>\n",
              "  </thead>\n",
              "  <tbody>\n",
              "    <tr>\n",
              "      <th>0</th>\n",
              "      <td>arg_0_0</td>\n",
              "      <td>kp_0_0</td>\n",
              "      <td>0</td>\n",
              "      <td>`people reach their limit when it comes to the...</td>\n",
              "      <td>Assisted suicide gives dignity to the person t...</td>\n",
              "      <td>Assisted suicide should be a criminal offence</td>\n",
              "      <td>-1</td>\n",
              "    </tr>\n",
              "    <tr>\n",
              "      <th>1</th>\n",
              "      <td>arg_0_121</td>\n",
              "      <td>kp_0_4</td>\n",
              "      <td>0</td>\n",
              "      <td>a cure or treatment may be discovered shortly ...</td>\n",
              "      <td>Assisted suicide allows people to solicit some...</td>\n",
              "      <td>Assisted suicide should be a criminal offence</td>\n",
              "      <td>1</td>\n",
              "    </tr>\n",
              "    <tr>\n",
              "      <th>2</th>\n",
              "      <td>arg_0_121</td>\n",
              "      <td>kp_0_5</td>\n",
              "      <td>0</td>\n",
              "      <td>a cure or treatment may be discovered shortly ...</td>\n",
              "      <td>Assisted suicide is akin to killing someone</td>\n",
              "      <td>Assisted suicide should be a criminal offence</td>\n",
              "      <td>1</td>\n",
              "    </tr>\n",
              "    <tr>\n",
              "      <th>3</th>\n",
              "      <td>arg_0_121</td>\n",
              "      <td>kp_0_6</td>\n",
              "      <td>1</td>\n",
              "      <td>a cure or treatment may be discovered shortly ...</td>\n",
              "      <td>Assisted suicide should not be allowed because...</td>\n",
              "      <td>Assisted suicide should be a criminal offence</td>\n",
              "      <td>1</td>\n",
              "    </tr>\n",
              "    <tr>\n",
              "      <th>4</th>\n",
              "      <td>arg_0_121</td>\n",
              "      <td>kp_0_7</td>\n",
              "      <td>0</td>\n",
              "      <td>a cure or treatment may be discovered shortly ...</td>\n",
              "      <td>Assisted suicide violates the doctor's role</td>\n",
              "      <td>Assisted suicide should be a criminal offence</td>\n",
              "      <td>1</td>\n",
              "    </tr>\n",
              "  </tbody>\n",
              "</table>\n",
              "</div>"
            ],
            "text/plain": [
              "      arg_id  ... stance\n",
              "0    arg_0_0  ...     -1\n",
              "1  arg_0_121  ...      1\n",
              "2  arg_0_121  ...      1\n",
              "3  arg_0_121  ...      1\n",
              "4  arg_0_121  ...      1\n",
              "\n",
              "[5 rows x 7 columns]"
            ]
          },
          "metadata": {
            "tags": []
          },
          "execution_count": 19
        }
      ]
    },
    {
      "cell_type": "code",
      "metadata": {
        "id": "PhnUGiXiDxsp"
      },
      "source": [
        "argument_val, key_point_val, topic_val,stance_val  = give_tuples(df_labels_val,df_arguments_val,df_key_points_val)"
      ],
      "execution_count": null,
      "outputs": []
    },
    {
      "cell_type": "code",
      "metadata": {
        "colab": {
          "base_uri": "https://localhost:8080/",
          "height": 279
        },
        "id": "G4Kw5AbYD-tV",
        "outputId": "b9153a57-d80a-4b84-e2ef-40cc98cbd6ab"
      },
      "source": [
        "df_labels_val['arg'] = argument_val\n",
        "df_labels_val['key_point'] = key_point_val\n",
        "df_labels_val['topic'] = topic_val\n",
        "df_labels_val['stance'] = stance_val\n",
        "\n",
        "df_labels_val.head()"
      ],
      "execution_count": null,
      "outputs": [
        {
          "output_type": "execute_result",
          "data": {
            "text/html": [
              "<div>\n",
              "<style scoped>\n",
              "    .dataframe tbody tr th:only-of-type {\n",
              "        vertical-align: middle;\n",
              "    }\n",
              "\n",
              "    .dataframe tbody tr th {\n",
              "        vertical-align: top;\n",
              "    }\n",
              "\n",
              "    .dataframe thead th {\n",
              "        text-align: right;\n",
              "    }\n",
              "</style>\n",
              "<table border=\"1\" class=\"dataframe\">\n",
              "  <thead>\n",
              "    <tr style=\"text-align: right;\">\n",
              "      <th></th>\n",
              "      <th>arg_id</th>\n",
              "      <th>key_point_id</th>\n",
              "      <th>label</th>\n",
              "      <th>arg</th>\n",
              "      <th>key_point</th>\n",
              "      <th>topic</th>\n",
              "      <th>stance</th>\n",
              "    </tr>\n",
              "  </thead>\n",
              "  <tbody>\n",
              "    <tr>\n",
              "      <th>0</th>\n",
              "      <td>arg_4_121</td>\n",
              "      <td>kp_4_5</td>\n",
              "      <td>1</td>\n",
              "      <td>A real education is about giving students the ...</td>\n",
              "      <td>School uniform is harming the student's self e...</td>\n",
              "      <td>We should abandon the use of school uniform</td>\n",
              "      <td>1</td>\n",
              "    </tr>\n",
              "    <tr>\n",
              "      <th>1</th>\n",
              "      <td>arg_4_121</td>\n",
              "      <td>kp_4_6</td>\n",
              "      <td>0</td>\n",
              "      <td>A real education is about giving students the ...</td>\n",
              "      <td>School uniforms are expensive</td>\n",
              "      <td>We should abandon the use of school uniform</td>\n",
              "      <td>1</td>\n",
              "    </tr>\n",
              "    <tr>\n",
              "      <th>2</th>\n",
              "      <td>arg_4_121</td>\n",
              "      <td>kp_4_7</td>\n",
              "      <td>0</td>\n",
              "      <td>A real education is about giving students the ...</td>\n",
              "      <td>School uniforms are often uncomfortable/sexist</td>\n",
              "      <td>We should abandon the use of school uniform</td>\n",
              "      <td>1</td>\n",
              "    </tr>\n",
              "    <tr>\n",
              "      <th>3</th>\n",
              "      <td>arg_4_122</td>\n",
              "      <td>kp_4_8</td>\n",
              "      <td>0</td>\n",
              "      <td>children express themselves through the clothe...</td>\n",
              "      <td>School uniform harms learning/creativity</td>\n",
              "      <td>We should abandon the use of school uniform</td>\n",
              "      <td>1</td>\n",
              "    </tr>\n",
              "    <tr>\n",
              "      <th>4</th>\n",
              "      <td>arg_4_122</td>\n",
              "      <td>kp_4_5</td>\n",
              "      <td>1</td>\n",
              "      <td>children express themselves through the clothe...</td>\n",
              "      <td>School uniform is harming the student's self e...</td>\n",
              "      <td>We should abandon the use of school uniform</td>\n",
              "      <td>1</td>\n",
              "    </tr>\n",
              "  </tbody>\n",
              "</table>\n",
              "</div>"
            ],
            "text/plain": [
              "      arg_id key_point_id  ...                                        topic stance\n",
              "0  arg_4_121       kp_4_5  ...  We should abandon the use of school uniform      1\n",
              "1  arg_4_121       kp_4_6  ...  We should abandon the use of school uniform      1\n",
              "2  arg_4_121       kp_4_7  ...  We should abandon the use of school uniform      1\n",
              "3  arg_4_122       kp_4_8  ...  We should abandon the use of school uniform      1\n",
              "4  arg_4_122       kp_4_5  ...  We should abandon the use of school uniform      1\n",
              "\n",
              "[5 rows x 7 columns]"
            ]
          },
          "metadata": {
            "tags": []
          },
          "execution_count": 21
        }
      ]
    },
    {
      "cell_type": "code",
      "metadata": {
        "colab": {
          "base_uri": "https://localhost:8080/"
        },
        "id": "6QFXlesVEGHE",
        "outputId": "603d8a56-317e-44ff-af61-de6fb0e16b1f"
      },
      "source": [
        "print(df_labels.shape)\n",
        "print(df_labels_val.shape)"
      ],
      "execution_count": null,
      "outputs": [
        {
          "output_type": "stream",
          "text": [
            "(20635, 7)\n",
            "(3458, 7)\n"
          ],
          "name": "stdout"
        }
      ]
    },
    {
      "cell_type": "code",
      "metadata": {
        "id": "JOCr2Q3dEKPW"
      },
      "source": [
        "df_labels.to_csv('train.csv')\n",
        "df_labels_val.to_csv('validation.csv')"
      ],
      "execution_count": null,
      "outputs": []
    },
    {
      "cell_type": "markdown",
      "metadata": {
        "id": "IFNaM0QFES_c"
      },
      "source": [
        "### Prediction File Creation (development set predictions file)"
      ]
    },
    {
      "cell_type": "code",
      "metadata": {
        "colab": {
          "base_uri": "https://localhost:8080/",
          "height": 195
        },
        "id": "ECjnJ3vKESgD",
        "outputId": "2798b884-bafc-43cf-abd9-b4e8fa79f7e5"
      },
      "source": [
        "df_arguments_val.head()"
      ],
      "execution_count": null,
      "outputs": [
        {
          "output_type": "execute_result",
          "data": {
            "text/html": [
              "<div>\n",
              "<style scoped>\n",
              "    .dataframe tbody tr th:only-of-type {\n",
              "        vertical-align: middle;\n",
              "    }\n",
              "\n",
              "    .dataframe tbody tr th {\n",
              "        vertical-align: top;\n",
              "    }\n",
              "\n",
              "    .dataframe thead th {\n",
              "        text-align: right;\n",
              "    }\n",
              "</style>\n",
              "<table border=\"1\" class=\"dataframe\">\n",
              "  <thead>\n",
              "    <tr style=\"text-align: right;\">\n",
              "      <th></th>\n",
              "      <th>arg_id</th>\n",
              "      <th>argument</th>\n",
              "      <th>topic</th>\n",
              "      <th>stance</th>\n",
              "    </tr>\n",
              "  </thead>\n",
              "  <tbody>\n",
              "    <tr>\n",
              "      <th>0</th>\n",
              "      <td>arg_4_0</td>\n",
              "      <td>having a school uniform can reduce bullying as...</td>\n",
              "      <td>We should abandon the use of school uniform</td>\n",
              "      <td>-1</td>\n",
              "    </tr>\n",
              "    <tr>\n",
              "      <th>1</th>\n",
              "      <td>arg_4_1</td>\n",
              "      <td>it is a good way to instill discipline</td>\n",
              "      <td>We should abandon the use of school uniform</td>\n",
              "      <td>-1</td>\n",
              "    </tr>\n",
              "    <tr>\n",
              "      <th>2</th>\n",
              "      <td>arg_4_2</td>\n",
              "      <td>it is cheaper for parents to buy school unifor...</td>\n",
              "      <td>We should abandon the use of school uniform</td>\n",
              "      <td>-1</td>\n",
              "    </tr>\n",
              "    <tr>\n",
              "      <th>3</th>\n",
              "      <td>arg_4_3</td>\n",
              "      <td>one of the benefits of school uniforms is that...</td>\n",
              "      <td>We should abandon the use of school uniform</td>\n",
              "      <td>-1</td>\n",
              "    </tr>\n",
              "    <tr>\n",
              "      <th>4</th>\n",
              "      <td>arg_4_4</td>\n",
              "      <td>researchers found that in schools across the w...</td>\n",
              "      <td>We should abandon the use of school uniform</td>\n",
              "      <td>-1</td>\n",
              "    </tr>\n",
              "  </tbody>\n",
              "</table>\n",
              "</div>"
            ],
            "text/plain": [
              "    arg_id  ... stance\n",
              "0  arg_4_0  ...     -1\n",
              "1  arg_4_1  ...     -1\n",
              "2  arg_4_2  ...     -1\n",
              "3  arg_4_3  ...     -1\n",
              "4  arg_4_4  ...     -1\n",
              "\n",
              "[5 rows x 4 columns]"
            ]
          },
          "metadata": {
            "tags": []
          },
          "execution_count": 15
        }
      ]
    },
    {
      "cell_type": "code",
      "metadata": {
        "id": "fz-LtntOEP-P",
        "colab": {
          "base_uri": "https://localhost:8080/",
          "height": 195
        },
        "outputId": "770dfc4d-7855-4d3e-8ec4-c05a1611e70e"
      },
      "source": [
        "df_key_points_val.head()"
      ],
      "execution_count": null,
      "outputs": [
        {
          "output_type": "execute_result",
          "data": {
            "text/html": [
              "<div>\n",
              "<style scoped>\n",
              "    .dataframe tbody tr th:only-of-type {\n",
              "        vertical-align: middle;\n",
              "    }\n",
              "\n",
              "    .dataframe tbody tr th {\n",
              "        vertical-align: top;\n",
              "    }\n",
              "\n",
              "    .dataframe thead th {\n",
              "        text-align: right;\n",
              "    }\n",
              "</style>\n",
              "<table border=\"1\" class=\"dataframe\">\n",
              "  <thead>\n",
              "    <tr style=\"text-align: right;\">\n",
              "      <th></th>\n",
              "      <th>key_point_id</th>\n",
              "      <th>key_point</th>\n",
              "      <th>topic</th>\n",
              "      <th>stance</th>\n",
              "    </tr>\n",
              "  </thead>\n",
              "  <tbody>\n",
              "    <tr>\n",
              "      <th>0</th>\n",
              "      <td>kp_4_0</td>\n",
              "      <td>Children can still express themselves using ot...</td>\n",
              "      <td>We should abandon the use of school uniform</td>\n",
              "      <td>-1</td>\n",
              "    </tr>\n",
              "    <tr>\n",
              "      <th>1</th>\n",
              "      <td>kp_4_1</td>\n",
              "      <td>School uniform reduces bullying</td>\n",
              "      <td>We should abandon the use of school uniform</td>\n",
              "      <td>-1</td>\n",
              "    </tr>\n",
              "    <tr>\n",
              "      <th>2</th>\n",
              "      <td>kp_4_2</td>\n",
              "      <td>School uniforms encourage discipline or focus ...</td>\n",
              "      <td>We should abandon the use of school uniform</td>\n",
              "      <td>-1</td>\n",
              "    </tr>\n",
              "    <tr>\n",
              "      <th>3</th>\n",
              "      <td>kp_4_3</td>\n",
              "      <td>School uniforms saves costs</td>\n",
              "      <td>We should abandon the use of school uniform</td>\n",
              "      <td>-1</td>\n",
              "    </tr>\n",
              "    <tr>\n",
              "      <th>4</th>\n",
              "      <td>kp_4_4</td>\n",
              "      <td>School uniforms create a sense of equality/unity</td>\n",
              "      <td>We should abandon the use of school uniform</td>\n",
              "      <td>-1</td>\n",
              "    </tr>\n",
              "  </tbody>\n",
              "</table>\n",
              "</div>"
            ],
            "text/plain": [
              "  key_point_id  ... stance\n",
              "0       kp_4_0  ...     -1\n",
              "1       kp_4_1  ...     -1\n",
              "2       kp_4_2  ...     -1\n",
              "3       kp_4_3  ...     -1\n",
              "4       kp_4_4  ...     -1\n",
              "\n",
              "[5 rows x 4 columns]"
            ]
          },
          "metadata": {
            "tags": []
          },
          "execution_count": 16
        }
      ]
    },
    {
      "cell_type": "code",
      "metadata": {
        "id": "lkVqxqBWFqli"
      },
      "source": [
        ""
      ],
      "execution_count": null,
      "outputs": []
    },
    {
      "cell_type": "code",
      "metadata": {
        "id": "PCKQA2laExsK"
      },
      "source": [
        "arg_pred = []\n",
        "key_point_pred = []\n",
        "\n",
        "arg_id_pred = []\n",
        "key_point_id_pred = []\n",
        "stance = []\n",
        "topic = []\n",
        "\n",
        "for arg,arg_id,topic_arg,stance_arg  in zip(df_arguments_val['argument'],df_arguments_val['arg_id'],df_arguments_val['topic'],df_arguments_val['stance']):\n",
        "  for kp,kp_id,topic_kp,stance_kp in zip(df_key_points_val['key_point'],df_key_points_val['key_point_id'],df_key_points_val['topic'],df_key_points_val['stance']):\n",
        "    if ( topic_arg == topic_kp and stance_arg == stance_kp):\n",
        "      \n",
        "      arg_pred.append(arg)\n",
        "      arg_id_pred.append(arg_id)\n",
        "\n",
        "      key_point_pred.append(kp)\n",
        "      key_point_id_pred.append(kp_id)\n",
        "      topic.append(topic_arg)\n",
        "\n",
        "      stance.append(stance_arg)\n"
      ],
      "execution_count": null,
      "outputs": []
    },
    {
      "cell_type": "code",
      "metadata": {
        "colab": {
          "base_uri": "https://localhost:8080/",
          "height": 279
        },
        "id": "5CA1m1NSH1ab",
        "outputId": "2de2cd32-404e-419b-e460-158e620285c6"
      },
      "source": [
        "pred = pd.DataFrame({'arg_id':arg_id_pred,'key_point_id':key_point_id_pred,'argument':arg_pred, 'keypoint':key_point_pred, 'topic' : topic , 'stance': stance})\n",
        "\n",
        "pred.head()"
      ],
      "execution_count": null,
      "outputs": [
        {
          "output_type": "execute_result",
          "data": {
            "text/html": [
              "<div>\n",
              "<style scoped>\n",
              "    .dataframe tbody tr th:only-of-type {\n",
              "        vertical-align: middle;\n",
              "    }\n",
              "\n",
              "    .dataframe tbody tr th {\n",
              "        vertical-align: top;\n",
              "    }\n",
              "\n",
              "    .dataframe thead th {\n",
              "        text-align: right;\n",
              "    }\n",
              "</style>\n",
              "<table border=\"1\" class=\"dataframe\">\n",
              "  <thead>\n",
              "    <tr style=\"text-align: right;\">\n",
              "      <th></th>\n",
              "      <th>arg_id</th>\n",
              "      <th>key_point_id</th>\n",
              "      <th>argument</th>\n",
              "      <th>keypoint</th>\n",
              "      <th>topic</th>\n",
              "      <th>stance</th>\n",
              "    </tr>\n",
              "  </thead>\n",
              "  <tbody>\n",
              "    <tr>\n",
              "      <th>0</th>\n",
              "      <td>arg_4_0</td>\n",
              "      <td>kp_4_0</td>\n",
              "      <td>having a school uniform can reduce bullying as...</td>\n",
              "      <td>Children can still express themselves using ot...</td>\n",
              "      <td>We should abandon the use of school uniform</td>\n",
              "      <td>-1</td>\n",
              "    </tr>\n",
              "    <tr>\n",
              "      <th>1</th>\n",
              "      <td>arg_4_0</td>\n",
              "      <td>kp_4_1</td>\n",
              "      <td>having a school uniform can reduce bullying as...</td>\n",
              "      <td>School uniform reduces bullying</td>\n",
              "      <td>We should abandon the use of school uniform</td>\n",
              "      <td>-1</td>\n",
              "    </tr>\n",
              "    <tr>\n",
              "      <th>2</th>\n",
              "      <td>arg_4_0</td>\n",
              "      <td>kp_4_2</td>\n",
              "      <td>having a school uniform can reduce bullying as...</td>\n",
              "      <td>School uniforms encourage discipline or focus ...</td>\n",
              "      <td>We should abandon the use of school uniform</td>\n",
              "      <td>-1</td>\n",
              "    </tr>\n",
              "    <tr>\n",
              "      <th>3</th>\n",
              "      <td>arg_4_0</td>\n",
              "      <td>kp_4_3</td>\n",
              "      <td>having a school uniform can reduce bullying as...</td>\n",
              "      <td>School uniforms saves costs</td>\n",
              "      <td>We should abandon the use of school uniform</td>\n",
              "      <td>-1</td>\n",
              "    </tr>\n",
              "    <tr>\n",
              "      <th>4</th>\n",
              "      <td>arg_4_0</td>\n",
              "      <td>kp_4_4</td>\n",
              "      <td>having a school uniform can reduce bullying as...</td>\n",
              "      <td>School uniforms create a sense of equality/unity</td>\n",
              "      <td>We should abandon the use of school uniform</td>\n",
              "      <td>-1</td>\n",
              "    </tr>\n",
              "  </tbody>\n",
              "</table>\n",
              "</div>"
            ],
            "text/plain": [
              "    arg_id key_point_id  ...                                        topic stance\n",
              "0  arg_4_0       kp_4_0  ...  We should abandon the use of school uniform     -1\n",
              "1  arg_4_0       kp_4_1  ...  We should abandon the use of school uniform     -1\n",
              "2  arg_4_0       kp_4_2  ...  We should abandon the use of school uniform     -1\n",
              "3  arg_4_0       kp_4_3  ...  We should abandon the use of school uniform     -1\n",
              "4  arg_4_0       kp_4_4  ...  We should abandon the use of school uniform     -1\n",
              "\n",
              "[5 rows x 6 columns]"
            ]
          },
          "metadata": {
            "tags": []
          },
          "execution_count": 22
        }
      ]
    },
    {
      "cell_type": "code",
      "metadata": {
        "id": "xLdydAVOIjCf"
      },
      "source": [
        "pred.to_csv('/content/drive/MyDrive/EMNLP_Argmining2021/dataset/predictions.csv')"
      ],
      "execution_count": null,
      "outputs": []
    }
  ]
}