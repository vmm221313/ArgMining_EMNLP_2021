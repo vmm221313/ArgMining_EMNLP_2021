{
  "nbformat": 4,
  "nbformat_minor": 0,
  "metadata": {
    "colab": {
      "name": "Track 2 - Checking Predictions of Pegasus - notebook number 2.ipynb",
      "provenance": [],
      "collapsed_sections": []
    },
    "kernelspec": {
      "name": "python3",
      "display_name": "Python 3"
    },
    "language_info": {
      "name": "python"
    }
  },
  "cells": [
    {
      "cell_type": "code",
      "metadata": {
        "colab": {
          "base_uri": "https://localhost:8080/"
        },
        "id": "pAcIZWl31vLy",
        "outputId": "a906842c-7e0e-4b31-ca1b-a437f9cd20b1"
      },
      "source": [
        "from google.colab import drive\n",
        "drive.mount('/content/drive')"
      ],
      "execution_count": null,
      "outputs": [
        {
          "output_type": "stream",
          "text": [
            "Mounted at /content/drive\n"
          ],
          "name": "stdout"
        }
      ]
    },
    {
      "cell_type": "code",
      "metadata": {
        "colab": {
          "base_uri": "https://localhost:8080/"
        },
        "id": "ffTB89FD_gRH",
        "outputId": "61316e11-7a78-440d-8433-ef672fc5045d"
      },
      "source": [
        "cd /content/drive/MyDrive/EMNLP_folder_4"
      ],
      "execution_count": null,
      "outputs": [
        {
          "output_type": "stream",
          "text": [
            "/content/drive/.shortcut-targets-by-id/1ANtRsCBtHNhrdxlObGcNtnE59DOMZyhS/EMNLP_folder_4\n"
          ],
          "name": "stdout"
        }
      ]
    },
    {
      "cell_type": "code",
      "metadata": {
        "colab": {
          "base_uri": "https://localhost:8080/"
        },
        "id": "TmgBmXdo_5As",
        "outputId": "af7a4c5c-8e93-45c7-ec31-f32dd238c142"
      },
      "source": [
        "!pip install transformers -q\n",
        "!pip install sentencepiece -q\n",
        "!pip install rouge-score -q"
      ],
      "execution_count": null,
      "outputs": [
        {
          "output_type": "stream",
          "text": [
            "\u001b[K     |████████████████████████████████| 2.5MB 15.0MB/s \n",
            "\u001b[K     |████████████████████████████████| 901kB 40.4MB/s \n",
            "\u001b[K     |████████████████████████████████| 3.3MB 37.2MB/s \n",
            "\u001b[K     |████████████████████████████████| 1.2MB 16.0MB/s \n",
            "\u001b[?25h"
          ],
          "name": "stdout"
        }
      ]
    },
    {
      "cell_type": "markdown",
      "metadata": {
        "id": "0iR7YKFsSHm8"
      },
      "source": [
        "# Importing the Required Libraries"
      ]
    },
    {
      "cell_type": "code",
      "metadata": {
        "id": "KGfZHpgI_8Dt"
      },
      "source": [
        "import numpy as np\n",
        "import pandas as pd\n",
        "import regex as re\n",
        "import random as rn\n",
        "import ast\n",
        "import matplotlib.pyplot as plt\n",
        "import seaborn as sns\n",
        "from sklearn.model_selection import train_test_split\n",
        "from sklearn.metrics import accuracy_score,average_precision_score, precision_score,precision_recall_curve\n",
        "from tqdm.notebook import tqdm\n",
        "from tqdm import trange\n",
        "import warnings\n",
        "import pickle\n",
        "import nltk\n",
        "import math\n",
        "import os\n",
        "import json\n",
        "import random\n",
        "import re\n",
        "import torch\n",
        "import torch.nn as nn\n",
        "from transformers import AdamW, get_linear_schedule_with_warmup\n",
        "from transformers import AutoTokenizer, AutoModel\n",
        "#import neptune.new as neptune\n",
        "\n",
        "from torch.utils.data import (DataLoader, RandomSampler, WeightedRandomSampler, SequentialSampler, TensorDataset)"
      ],
      "execution_count": null,
      "outputs": []
    },
    {
      "cell_type": "markdown",
      "metadata": {
        "id": "ydE3_WOZShlR"
      },
      "source": [
        "### Reading the predictions file and test dataset to take its arguments"
      ]
    },
    {
      "cell_type": "code",
      "metadata": {
        "id": "pbbG42jR_9mv"
      },
      "source": [
        "path_dataset = '/content/drive/MyDrive/EMNLP_folder_4/dataset/'"
      ],
      "execution_count": null,
      "outputs": []
    },
    {
      "cell_type": "code",
      "metadata": {
        "id": "foxp7gDNABh1"
      },
      "source": [
        "# here open the .txt file that contains generations made by Pegasus model\n",
        "f = open('/content/drive/MyDrive/EMNLP_folder_4/gen_key_points_predictions/test_set_generations.txt','r')\n",
        "\n",
        "preds = f.read().splitlines()"
      ],
      "execution_count": null,
      "outputs": []
    },
    {
      "cell_type": "code",
      "metadata": {
        "colab": {
          "base_uri": "https://localhost:8080/"
        },
        "id": "IycuNctGAMo7",
        "outputId": "be263152-9571-4aca-9ba5-eb59c5fa53c0"
      },
      "source": [
        "len(preds)"
      ],
      "execution_count": null,
      "outputs": [
        {
          "output_type": "execute_result",
          "data": {
            "text/plain": [
              "3923"
            ]
          },
          "metadata": {
            "tags": []
          },
          "execution_count": 7
        }
      ]
    },
    {
      "cell_type": "code",
      "metadata": {
        "id": "urZM8XXLANUu"
      },
      "source": [
        "# here open the combined dataset file of evaluation set(provided in the data folder of repo)\n",
        "df_test = pd.read_csv(path_dataset+'final_test.csv')"
      ],
      "execution_count": null,
      "outputs": []
    },
    {
      "cell_type": "code",
      "metadata": {
        "colab": {
          "base_uri": "https://localhost:8080/"
        },
        "id": "ZrO9ZSU8AVap",
        "outputId": "ddeb86b4-cafe-46f5-be5d-33e591816816"
      },
      "source": [
        "df_test.shape"
      ],
      "execution_count": null,
      "outputs": [
        {
          "output_type": "execute_result",
          "data": {
            "text/plain": [
              "(3923, 18)"
            ]
          },
          "metadata": {
            "tags": []
          },
          "execution_count": 9
        }
      ]
    },
    {
      "cell_type": "code",
      "metadata": {
        "colab": {
          "base_uri": "https://localhost:8080/",
          "height": 203
        },
        "id": "rk4YcsPDfwWO",
        "outputId": "0e77cc01-66e7-4276-fcec-5a092256c41c"
      },
      "source": [
        "#giving random key_point_id for now, these will be added later manually\n",
        "kp_df = pd.DataFrame({'key_point_id': 3923*['kp_0_10'] ,'key_point':preds,'topic':df_test['topic'],'stance':df_test['stance'],'key_point_given':df_test['key_point'] })\n",
        "\n",
        "kp_df.head()"
      ],
      "execution_count": null,
      "outputs": [
        {
          "output_type": "execute_result",
          "data": {
            "text/html": [
              "<div>\n",
              "<style scoped>\n",
              "    .dataframe tbody tr th:only-of-type {\n",
              "        vertical-align: middle;\n",
              "    }\n",
              "\n",
              "    .dataframe tbody tr th {\n",
              "        vertical-align: top;\n",
              "    }\n",
              "\n",
              "    .dataframe thead th {\n",
              "        text-align: right;\n",
              "    }\n",
              "</style>\n",
              "<table border=\"1\" class=\"dataframe\">\n",
              "  <thead>\n",
              "    <tr style=\"text-align: right;\">\n",
              "      <th></th>\n",
              "      <th>key_point_id</th>\n",
              "      <th>key_point</th>\n",
              "      <th>topic</th>\n",
              "      <th>stance</th>\n",
              "      <th>key_point_given</th>\n",
              "    </tr>\n",
              "  </thead>\n",
              "  <tbody>\n",
              "    <tr>\n",
              "      <th>0</th>\n",
              "      <td>kp_0_10</td>\n",
              "      <td>Parents will have more ability to pay-attentio...</td>\n",
              "      <td>Routine child vaccinations should be mandatory</td>\n",
              "      <td>-1</td>\n",
              "      <td>Routine child vaccinations, or their side effe...</td>\n",
              "    </tr>\n",
              "    <tr>\n",
              "      <th>1</th>\n",
              "      <td>kp_0_10</td>\n",
              "      <td>Parents will have more ability to pay-attentio...</td>\n",
              "      <td>Routine child vaccinations should be mandatory</td>\n",
              "      <td>-1</td>\n",
              "      <td>Mandatory vaccination contradicts basic rights</td>\n",
              "    </tr>\n",
              "    <tr>\n",
              "      <th>2</th>\n",
              "      <td>kp_0_10</td>\n",
              "      <td>Parents will have more ability to pay-attentio...</td>\n",
              "      <td>Routine child vaccinations should be mandatory</td>\n",
              "      <td>-1</td>\n",
              "      <td>The parents and not the state should decide</td>\n",
              "    </tr>\n",
              "    <tr>\n",
              "      <th>3</th>\n",
              "      <td>kp_0_10</td>\n",
              "      <td>Parents will have more ability to pay-attentio...</td>\n",
              "      <td>Routine child vaccinations should be mandatory</td>\n",
              "      <td>-1</td>\n",
              "      <td>Routine child vaccinations are not necessary t...</td>\n",
              "    </tr>\n",
              "    <tr>\n",
              "      <th>4</th>\n",
              "      <td>kp_0_10</td>\n",
              "      <td>Parents are not qualified as medical professio...</td>\n",
              "      <td>Routine child vaccinations should be mandatory</td>\n",
              "      <td>-1</td>\n",
              "      <td>Routine child vaccinations, or their side effe...</td>\n",
              "    </tr>\n",
              "  </tbody>\n",
              "</table>\n",
              "</div>"
            ],
            "text/plain": [
              "  key_point_id  ...                                    key_point_given\n",
              "0      kp_0_10  ...  Routine child vaccinations, or their side effe...\n",
              "1      kp_0_10  ...     Mandatory vaccination contradicts basic rights\n",
              "2      kp_0_10  ...        The parents and not the state should decide\n",
              "3      kp_0_10  ...  Routine child vaccinations are not necessary t...\n",
              "4      kp_0_10  ...  Routine child vaccinations, or their side effe...\n",
              "\n",
              "[5 rows x 5 columns]"
            ]
          },
          "metadata": {
            "tags": []
          },
          "execution_count": 10
        }
      ]
    },
    {
      "cell_type": "code",
      "metadata": {
        "id": "ElBaCKk2oBpg"
      },
      "source": [
        "final_kp_df = kp_df.drop_duplicates()"
      ],
      "execution_count": null,
      "outputs": []
    },
    {
      "cell_type": "code",
      "metadata": {
        "colab": {
          "base_uri": "https://localhost:8080/",
          "height": 203
        },
        "id": "5-YMeDvYoMOf",
        "outputId": "8ee616ab-cc07-4ebc-a998-e05dd23b70f8"
      },
      "source": [
        "final_kp_df.head()"
      ],
      "execution_count": null,
      "outputs": [
        {
          "output_type": "execute_result",
          "data": {
            "text/html": [
              "<div>\n",
              "<style scoped>\n",
              "    .dataframe tbody tr th:only-of-type {\n",
              "        vertical-align: middle;\n",
              "    }\n",
              "\n",
              "    .dataframe tbody tr th {\n",
              "        vertical-align: top;\n",
              "    }\n",
              "\n",
              "    .dataframe thead th {\n",
              "        text-align: right;\n",
              "    }\n",
              "</style>\n",
              "<table border=\"1\" class=\"dataframe\">\n",
              "  <thead>\n",
              "    <tr style=\"text-align: right;\">\n",
              "      <th></th>\n",
              "      <th>key_point_id</th>\n",
              "      <th>key_point</th>\n",
              "      <th>topic</th>\n",
              "      <th>stance</th>\n",
              "      <th>key_point_given</th>\n",
              "    </tr>\n",
              "  </thead>\n",
              "  <tbody>\n",
              "    <tr>\n",
              "      <th>0</th>\n",
              "      <td>kp_0_10</td>\n",
              "      <td>Parents will have more ability to pay-attentio...</td>\n",
              "      <td>Routine child vaccinations should be mandatory</td>\n",
              "      <td>-1</td>\n",
              "      <td>Routine child vaccinations, or their side effe...</td>\n",
              "    </tr>\n",
              "    <tr>\n",
              "      <th>1</th>\n",
              "      <td>kp_0_10</td>\n",
              "      <td>Parents will have more ability to pay-attentio...</td>\n",
              "      <td>Routine child vaccinations should be mandatory</td>\n",
              "      <td>-1</td>\n",
              "      <td>Mandatory vaccination contradicts basic rights</td>\n",
              "    </tr>\n",
              "    <tr>\n",
              "      <th>2</th>\n",
              "      <td>kp_0_10</td>\n",
              "      <td>Parents will have more ability to pay-attentio...</td>\n",
              "      <td>Routine child vaccinations should be mandatory</td>\n",
              "      <td>-1</td>\n",
              "      <td>The parents and not the state should decide</td>\n",
              "    </tr>\n",
              "    <tr>\n",
              "      <th>3</th>\n",
              "      <td>kp_0_10</td>\n",
              "      <td>Parents will have more ability to pay-attentio...</td>\n",
              "      <td>Routine child vaccinations should be mandatory</td>\n",
              "      <td>-1</td>\n",
              "      <td>Routine child vaccinations are not necessary t...</td>\n",
              "    </tr>\n",
              "    <tr>\n",
              "      <th>4</th>\n",
              "      <td>kp_0_10</td>\n",
              "      <td>Parents are not qualified as medical professio...</td>\n",
              "      <td>Routine child vaccinations should be mandatory</td>\n",
              "      <td>-1</td>\n",
              "      <td>Routine child vaccinations, or their side effe...</td>\n",
              "    </tr>\n",
              "  </tbody>\n",
              "</table>\n",
              "</div>"
            ],
            "text/plain": [
              "  key_point_id  ...                                    key_point_given\n",
              "0      kp_0_10  ...  Routine child vaccinations, or their side effe...\n",
              "1      kp_0_10  ...     Mandatory vaccination contradicts basic rights\n",
              "2      kp_0_10  ...        The parents and not the state should decide\n",
              "3      kp_0_10  ...  Routine child vaccinations are not necessary t...\n",
              "4      kp_0_10  ...  Routine child vaccinations, or their side effe...\n",
              "\n",
              "[5 rows x 5 columns]"
            ]
          },
          "metadata": {
            "tags": []
          },
          "execution_count": 12
        }
      ]
    },
    {
      "cell_type": "code",
      "metadata": {
        "colab": {
          "base_uri": "https://localhost:8080/"
        },
        "id": "BMbd8qy1esC8",
        "outputId": "d0a758a8-b8cb-4271-fff1-24b331216bcd"
      },
      "source": [
        "final_kp_df.shape"
      ],
      "execution_count": null,
      "outputs": [
        {
          "output_type": "execute_result",
          "data": {
            "text/plain": [
              "(405, 5)"
            ]
          },
          "metadata": {
            "tags": []
          },
          "execution_count": 13
        }
      ]
    },
    {
      "cell_type": "code",
      "metadata": {
        "colab": {
          "base_uri": "https://localhost:8080/"
        },
        "id": "z5o7AsoboNPF",
        "outputId": "68877223-f694-47a3-c04c-325fa805ab0f"
      },
      "source": [
        "final_kp_df['topic'].value_counts()"
      ],
      "execution_count": null,
      "outputs": [
        {
          "output_type": "execute_result",
          "data": {
            "text/plain": [
              "The USA is a good country to live in                            231\n",
              "Routine child vaccinations should be mandatory                  109\n",
              "Social media platforms should be regulated by the government     65\n",
              "Name: topic, dtype: int64"
            ]
          },
          "metadata": {
            "tags": []
          },
          "execution_count": 14
        }
      ]
    },
    {
      "cell_type": "code",
      "metadata": {
        "id": "fq-KfagQoPEg"
      },
      "source": [
        "df = final_kp_df.groupby(\"topic\")"
      ],
      "execution_count": null,
      "outputs": []
    },
    {
      "cell_type": "code",
      "metadata": {
        "colab": {
          "base_uri": "https://localhost:8080/"
        },
        "id": "2BGJ7KeRqJrx",
        "outputId": "4dec5438-03cd-4b99-e63d-b72e7262f21c"
      },
      "source": [
        "df.get_group('Routine child vaccinations should be mandatory')['stance'].value_counts()"
      ],
      "execution_count": null,
      "outputs": [
        {
          "output_type": "execute_result",
          "data": {
            "text/plain": [
              "-1    64\n",
              " 1    45\n",
              "Name: stance, dtype: int64"
            ]
          },
          "metadata": {
            "tags": []
          },
          "execution_count": 16
        }
      ]
    },
    {
      "cell_type": "code",
      "metadata": {
        "colab": {
          "base_uri": "https://localhost:8080/"
        },
        "id": "xXYXG8BlqxZN",
        "outputId": "f6c79beb-3895-4db6-ede3-5bec90a0bd02"
      },
      "source": [
        "df.get_group('Social media platforms should be regulated by the government')['stance'].value_counts()"
      ],
      "execution_count": null,
      "outputs": [
        {
          "output_type": "execute_result",
          "data": {
            "text/plain": [
              " 1    55\n",
              "-1    10\n",
              "Name: stance, dtype: int64"
            ]
          },
          "metadata": {
            "tags": []
          },
          "execution_count": 17
        }
      ]
    },
    {
      "cell_type": "code",
      "metadata": {
        "colab": {
          "base_uri": "https://localhost:8080/"
        },
        "id": "jE8IB9VJqnZd",
        "outputId": "3847dafc-ae24-4654-b1a9-2a5f4eeef62c"
      },
      "source": [
        "df.get_group('The USA is a good country to live in')['stance'].value_counts()"
      ],
      "execution_count": null,
      "outputs": [
        {
          "output_type": "execute_result",
          "data": {
            "text/plain": [
              " 1    126\n",
              "-1    105\n",
              "Name: stance, dtype: int64"
            ]
          },
          "metadata": {
            "tags": []
          },
          "execution_count": 18
        }
      ]
    },
    {
      "cell_type": "code",
      "metadata": {
        "id": "IETvqbF_2emP"
      },
      "source": [
        "from rouge_score import rouge_scorer"
      ],
      "execution_count": null,
      "outputs": []
    },
    {
      "cell_type": "code",
      "metadata": {
        "id": "4trkTdXy2ejT"
      },
      "source": [
        "scorer = rouge_scorer.RougeScorer(['rouge1'], use_stemmer=True)"
      ],
      "execution_count": null,
      "outputs": []
    },
    {
      "cell_type": "code",
      "metadata": {
        "id": "WVa-gpTd2L1M"
      },
      "source": [
        "scores = scorer.score(final_kp_df['key_point'][0],final_kp_df['key_point_given'][0])"
      ],
      "execution_count": null,
      "outputs": []
    },
    {
      "cell_type": "code",
      "metadata": {
        "colab": {
          "base_uri": "https://localhost:8080/"
        },
        "id": "-shyv8wW23kW",
        "outputId": "aeb534f8-3b50-473e-86e8-10629a53c9f6"
      },
      "source": [
        "scores['rouge1']"
      ],
      "execution_count": null,
      "outputs": [
        {
          "output_type": "execute_result",
          "data": {
            "text/plain": [
              "Score(precision=0.2222222222222222, recall=0.18181818181818182, fmeasure=0.19999999999999998)"
            ]
          },
          "metadata": {
            "tags": []
          },
          "execution_count": 22
        }
      ]
    },
    {
      "cell_type": "markdown",
      "metadata": {
        "id": "zKVyHHDD3acr"
      },
      "source": [
        "#### Taking Rouge1 - Precision Metric for selecting the best key_point"
      ]
    },
    {
      "cell_type": "code",
      "metadata": {
        "id": "79qI66Ac25qT"
      },
      "source": [
        "def give_score(kp1,kp_given):\n",
        "  scores = scorer.score(kp1,kp_given)\n",
        "  return float(scores['rouge1'][0])"
      ],
      "execution_count": null,
      "outputs": []
    },
    {
      "cell_type": "code",
      "metadata": {
        "id": "x6xvsuWX25nl"
      },
      "source": [
        "score_list = []\n",
        "\n",
        "for i,j in zip(final_kp_df['key_point'],final_kp_df['key_point_given']):\n",
        "  score_list.append(give_score(i,j))"
      ],
      "execution_count": null,
      "outputs": []
    },
    {
      "cell_type": "code",
      "metadata": {
        "colab": {
          "base_uri": "https://localhost:8080/",
          "height": 304
        },
        "id": "-nypSsWz25k2",
        "outputId": "ac5ded96-c6d0-4f75-97e2-10f069099343"
      },
      "source": [
        "final_kp_df['precision_score'] = score_list\n",
        "final_kp_df.head()"
      ],
      "execution_count": null,
      "outputs": [
        {
          "output_type": "stream",
          "text": [
            "/usr/local/lib/python3.7/dist-packages/ipykernel_launcher.py:1: SettingWithCopyWarning: \n",
            "A value is trying to be set on a copy of a slice from a DataFrame.\n",
            "Try using .loc[row_indexer,col_indexer] = value instead\n",
            "\n",
            "See the caveats in the documentation: https://pandas.pydata.org/pandas-docs/stable/user_guide/indexing.html#returning-a-view-versus-a-copy\n",
            "  \"\"\"Entry point for launching an IPython kernel.\n"
          ],
          "name": "stderr"
        },
        {
          "output_type": "execute_result",
          "data": {
            "text/html": [
              "<div>\n",
              "<style scoped>\n",
              "    .dataframe tbody tr th:only-of-type {\n",
              "        vertical-align: middle;\n",
              "    }\n",
              "\n",
              "    .dataframe tbody tr th {\n",
              "        vertical-align: top;\n",
              "    }\n",
              "\n",
              "    .dataframe thead th {\n",
              "        text-align: right;\n",
              "    }\n",
              "</style>\n",
              "<table border=\"1\" class=\"dataframe\">\n",
              "  <thead>\n",
              "    <tr style=\"text-align: right;\">\n",
              "      <th></th>\n",
              "      <th>key_point_id</th>\n",
              "      <th>key_point</th>\n",
              "      <th>topic</th>\n",
              "      <th>stance</th>\n",
              "      <th>key_point_given</th>\n",
              "      <th>precision_score</th>\n",
              "    </tr>\n",
              "  </thead>\n",
              "  <tbody>\n",
              "    <tr>\n",
              "      <th>0</th>\n",
              "      <td>kp_0_10</td>\n",
              "      <td>Parents will have more ability to pay-attentio...</td>\n",
              "      <td>Routine child vaccinations should be mandatory</td>\n",
              "      <td>-1</td>\n",
              "      <td>Routine child vaccinations, or their side effe...</td>\n",
              "      <td>0.222222</td>\n",
              "    </tr>\n",
              "    <tr>\n",
              "      <th>1</th>\n",
              "      <td>kp_0_10</td>\n",
              "      <td>Parents will have more ability to pay-attentio...</td>\n",
              "      <td>Routine child vaccinations should be mandatory</td>\n",
              "      <td>-1</td>\n",
              "      <td>Mandatory vaccination contradicts basic rights</td>\n",
              "      <td>0.000000</td>\n",
              "    </tr>\n",
              "    <tr>\n",
              "      <th>2</th>\n",
              "      <td>kp_0_10</td>\n",
              "      <td>Parents will have more ability to pay-attentio...</td>\n",
              "      <td>Routine child vaccinations should be mandatory</td>\n",
              "      <td>-1</td>\n",
              "      <td>The parents and not the state should decide</td>\n",
              "      <td>0.125000</td>\n",
              "    </tr>\n",
              "    <tr>\n",
              "      <th>3</th>\n",
              "      <td>kp_0_10</td>\n",
              "      <td>Parents will have more ability to pay-attentio...</td>\n",
              "      <td>Routine child vaccinations should be mandatory</td>\n",
              "      <td>-1</td>\n",
              "      <td>Routine child vaccinations are not necessary t...</td>\n",
              "      <td>0.200000</td>\n",
              "    </tr>\n",
              "    <tr>\n",
              "      <th>4</th>\n",
              "      <td>kp_0_10</td>\n",
              "      <td>Parents are not qualified as medical professio...</td>\n",
              "      <td>Routine child vaccinations should be mandatory</td>\n",
              "      <td>-1</td>\n",
              "      <td>Routine child vaccinations, or their side effe...</td>\n",
              "      <td>0.111111</td>\n",
              "    </tr>\n",
              "  </tbody>\n",
              "</table>\n",
              "</div>"
            ],
            "text/plain": [
              "  key_point_id  ... precision_score\n",
              "0      kp_0_10  ...        0.222222\n",
              "1      kp_0_10  ...        0.000000\n",
              "2      kp_0_10  ...        0.125000\n",
              "3      kp_0_10  ...        0.200000\n",
              "4      kp_0_10  ...        0.111111\n",
              "\n",
              "[5 rows x 6 columns]"
            ]
          },
          "metadata": {
            "tags": []
          },
          "execution_count": 25
        }
      ]
    },
    {
      "cell_type": "code",
      "metadata": {
        "id": "kWvccS8925h6"
      },
      "source": [
        "df_topic_1 = final_kp_df[final_kp_df['topic'] == 'Routine child vaccinations should be mandatory']\n",
        "df_topic_2 = final_kp_df[final_kp_df['topic'] == 'Social media platforms should be regulated by the government']\n",
        "df_topic_3 = final_kp_df[final_kp_df['topic'] == 'The USA is a good country to live in']"
      ],
      "execution_count": null,
      "outputs": []
    },
    {
      "cell_type": "code",
      "metadata": {
        "id": "w0sgerY74FBM"
      },
      "source": [
        "df_topic_1_pos_stance = df_topic_1[df_topic_1['stance'] == 1 ] \n",
        "df_topic_1_neg_stance = df_topic_1[df_topic_1['stance'] == -1 ] \n",
        "df_topic_2_pos_stance = df_topic_2[df_topic_2['stance'] == 1 ] \n",
        "df_topic_2_neg_stance = df_topic_2[df_topic_2['stance'] == -1 ] \n",
        "df_topic_3_pos_stance = df_topic_3[df_topic_3['stance'] == 1 ] \n",
        "df_topic_3_neg_stance = df_topic_3[df_topic_3['stance'] == -1 ] "
      ],
      "execution_count": null,
      "outputs": []
    },
    {
      "cell_type": "code",
      "metadata": {
        "id": "xpo_PZZg4E-X"
      },
      "source": [
        "df_topic_1_pos_stance = df_topic_1_pos_stance.sort_values(by='precision_score', ascending=False)\n",
        "df_topic_1_neg_stance = df_topic_1_neg_stance.sort_values(by='precision_score', ascending=False)\n",
        "df_topic_2_pos_stance = df_topic_2_pos_stance.sort_values(by='precision_score', ascending=False) \n",
        "df_topic_2_neg_stance = df_topic_2_neg_stance.sort_values(by='precision_score', ascending=False)\n",
        "df_topic_3_pos_stance = df_topic_3_pos_stance.sort_values(by='precision_score', ascending=False) \n",
        "df_topic_3_neg_stance = df_topic_3_neg_stance.sort_values(by='precision_score', ascending=False) "
      ],
      "execution_count": null,
      "outputs": []
    },
    {
      "cell_type": "code",
      "metadata": {
        "colab": {
          "base_uri": "https://localhost:8080/",
          "height": 203
        },
        "id": "wK-2kXZ_4E7n",
        "outputId": "731ebf89-3027-4d58-d2f0-4dcfbabce3e5"
      },
      "source": [
        "df_topic_1_pos_stance.head()"
      ],
      "execution_count": null,
      "outputs": [
        {
          "output_type": "execute_result",
          "data": {
            "text/html": [
              "<div>\n",
              "<style scoped>\n",
              "    .dataframe tbody tr th:only-of-type {\n",
              "        vertical-align: middle;\n",
              "    }\n",
              "\n",
              "    .dataframe tbody tr th {\n",
              "        vertical-align: top;\n",
              "    }\n",
              "\n",
              "    .dataframe thead th {\n",
              "        text-align: right;\n",
              "    }\n",
              "</style>\n",
              "<table border=\"1\" class=\"dataframe\">\n",
              "  <thead>\n",
              "    <tr style=\"text-align: right;\">\n",
              "      <th></th>\n",
              "      <th>key_point_id</th>\n",
              "      <th>key_point</th>\n",
              "      <th>topic</th>\n",
              "      <th>stance</th>\n",
              "      <th>key_point_given</th>\n",
              "      <th>precision_score</th>\n",
              "    </tr>\n",
              "  </thead>\n",
              "  <tbody>\n",
              "    <tr>\n",
              "      <th>705</th>\n",
              "      <td>kp_0_10</td>\n",
              "      <td>Child vaccinations are necessary to protect ag...</td>\n",
              "      <td>Routine child vaccinations should be mandatory</td>\n",
              "      <td>1</td>\n",
              "      <td>Routine child vaccinations are necessary to pr...</td>\n",
              "      <td>0.75</td>\n",
              "    </tr>\n",
              "    <tr>\n",
              "      <th>703</th>\n",
              "      <td>kp_0_10</td>\n",
              "      <td>Child vaccinations are necessary to protect ag...</td>\n",
              "      <td>Routine child vaccinations should be mandatory</td>\n",
              "      <td>1</td>\n",
              "      <td>Routine child vaccinations are effective</td>\n",
              "      <td>0.60</td>\n",
              "    </tr>\n",
              "    <tr>\n",
              "      <th>815</th>\n",
              "      <td>kp_0_10</td>\n",
              "      <td>A mandatory vaccination is important to protec...</td>\n",
              "      <td>Routine child vaccinations should be mandatory</td>\n",
              "      <td>1</td>\n",
              "      <td>Routine child vaccinations are necessary to pr...</td>\n",
              "      <td>0.50</td>\n",
              "    </tr>\n",
              "    <tr>\n",
              "      <th>704</th>\n",
              "      <td>kp_0_10</td>\n",
              "      <td>Child vaccinations are necessary to protect ag...</td>\n",
              "      <td>Routine child vaccinations should be mandatory</td>\n",
              "      <td>1</td>\n",
              "      <td>Child vaccination saves lives</td>\n",
              "      <td>0.50</td>\n",
              "    </tr>\n",
              "    <tr>\n",
              "      <th>814</th>\n",
              "      <td>kp_0_10</td>\n",
              "      <td>A mandatory vaccination is important to protec...</td>\n",
              "      <td>Routine child vaccinations should be mandatory</td>\n",
              "      <td>1</td>\n",
              "      <td>Child vaccination saves lives</td>\n",
              "      <td>0.50</td>\n",
              "    </tr>\n",
              "  </tbody>\n",
              "</table>\n",
              "</div>"
            ],
            "text/plain": [
              "    key_point_id  ... precision_score\n",
              "705      kp_0_10  ...            0.75\n",
              "703      kp_0_10  ...            0.60\n",
              "815      kp_0_10  ...            0.50\n",
              "704      kp_0_10  ...            0.50\n",
              "814      kp_0_10  ...            0.50\n",
              "\n",
              "[5 rows x 6 columns]"
            ]
          },
          "metadata": {
            "tags": []
          },
          "execution_count": 29
        }
      ]
    },
    {
      "cell_type": "code",
      "metadata": {
        "colab": {
          "base_uri": "https://localhost:8080/",
          "height": 1000
        },
        "id": "9VPVE24v482U",
        "outputId": "e6a2921b-69e8-4825-c065-73284b28b682"
      },
      "source": [
        "df_topic_1_pos_stance.iloc[:,:]"
      ],
      "execution_count": null,
      "outputs": [
        {
          "output_type": "execute_result",
          "data": {
            "text/html": [
              "<div>\n",
              "<style scoped>\n",
              "    .dataframe tbody tr th:only-of-type {\n",
              "        vertical-align: middle;\n",
              "    }\n",
              "\n",
              "    .dataframe tbody tr th {\n",
              "        vertical-align: top;\n",
              "    }\n",
              "\n",
              "    .dataframe thead th {\n",
              "        text-align: right;\n",
              "    }\n",
              "</style>\n",
              "<table border=\"1\" class=\"dataframe\">\n",
              "  <thead>\n",
              "    <tr style=\"text-align: right;\">\n",
              "      <th></th>\n",
              "      <th>key_point_id</th>\n",
              "      <th>key_point</th>\n",
              "      <th>topic</th>\n",
              "      <th>stance</th>\n",
              "      <th>key_point_given</th>\n",
              "      <th>precision_score</th>\n",
              "    </tr>\n",
              "  </thead>\n",
              "  <tbody>\n",
              "    <tr>\n",
              "      <th>705</th>\n",
              "      <td>kp_0_10</td>\n",
              "      <td>Child vaccinations are necessary to protect ag...</td>\n",
              "      <td>Routine child vaccinations should be mandatory</td>\n",
              "      <td>1</td>\n",
              "      <td>Routine child vaccinations are necessary to pr...</td>\n",
              "      <td>0.750000</td>\n",
              "    </tr>\n",
              "    <tr>\n",
              "      <th>703</th>\n",
              "      <td>kp_0_10</td>\n",
              "      <td>Child vaccinations are necessary to protect ag...</td>\n",
              "      <td>Routine child vaccinations should be mandatory</td>\n",
              "      <td>1</td>\n",
              "      <td>Routine child vaccinations are effective</td>\n",
              "      <td>0.600000</td>\n",
              "    </tr>\n",
              "    <tr>\n",
              "      <th>815</th>\n",
              "      <td>kp_0_10</td>\n",
              "      <td>A mandatory vaccination is important to protec...</td>\n",
              "      <td>Routine child vaccinations should be mandatory</td>\n",
              "      <td>1</td>\n",
              "      <td>Routine child vaccinations are necessary to pr...</td>\n",
              "      <td>0.500000</td>\n",
              "    </tr>\n",
              "    <tr>\n",
              "      <th>704</th>\n",
              "      <td>kp_0_10</td>\n",
              "      <td>Child vaccinations are necessary to protect ag...</td>\n",
              "      <td>Routine child vaccinations should be mandatory</td>\n",
              "      <td>1</td>\n",
              "      <td>Child vaccination saves lives</td>\n",
              "      <td>0.500000</td>\n",
              "    </tr>\n",
              "    <tr>\n",
              "      <th>814</th>\n",
              "      <td>kp_0_10</td>\n",
              "      <td>A mandatory vaccination is important to protec...</td>\n",
              "      <td>Routine child vaccinations should be mandatory</td>\n",
              "      <td>1</td>\n",
              "      <td>Child vaccination saves lives</td>\n",
              "      <td>0.500000</td>\n",
              "    </tr>\n",
              "    <tr>\n",
              "      <th>816</th>\n",
              "      <td>kp_0_10</td>\n",
              "      <td>A mandatory vaccination is important to protec...</td>\n",
              "      <td>Routine child vaccinations should be mandatory</td>\n",
              "      <td>1</td>\n",
              "      <td>Routine child vaccinations should be mandatory...</td>\n",
              "      <td>0.454545</td>\n",
              "    </tr>\n",
              "    <tr>\n",
              "      <th>452</th>\n",
              "      <td>kp_0_10</td>\n",
              "      <td>Children should be vaccinated against diseases...</td>\n",
              "      <td>Routine child vaccinations should be mandatory</td>\n",
              "      <td>1</td>\n",
              "      <td>Children should not suffer from preventable di...</td>\n",
              "      <td>0.428571</td>\n",
              "    </tr>\n",
              "    <tr>\n",
              "      <th>487</th>\n",
              "      <td>kp_0_10</td>\n",
              "      <td>Children should be vaccinated against diseases</td>\n",
              "      <td>Routine child vaccinations should be mandatory</td>\n",
              "      <td>1</td>\n",
              "      <td>Children should not suffer from preventable di...</td>\n",
              "      <td>0.428571</td>\n",
              "    </tr>\n",
              "    <tr>\n",
              "      <th>1148</th>\n",
              "      <td>kp_0_10</td>\n",
              "      <td>Parents are not adequately informed about the ...</td>\n",
              "      <td>Routine child vaccinations should be mandatory</td>\n",
              "      <td>1</td>\n",
              "      <td>Routine child vaccinations are effective</td>\n",
              "      <td>0.400000</td>\n",
              "    </tr>\n",
              "    <tr>\n",
              "      <th>813</th>\n",
              "      <td>kp_0_10</td>\n",
              "      <td>A mandatory vaccination is important to protec...</td>\n",
              "      <td>Routine child vaccinations should be mandatory</td>\n",
              "      <td>1</td>\n",
              "      <td>Routine child vaccinations are effective</td>\n",
              "      <td>0.400000</td>\n",
              "    </tr>\n",
              "    <tr>\n",
              "      <th>706</th>\n",
              "      <td>kp_0_10</td>\n",
              "      <td>Child vaccinations are necessary to protect ag...</td>\n",
              "      <td>Routine child vaccinations should be mandatory</td>\n",
              "      <td>1</td>\n",
              "      <td>Routine child vaccinations should be mandatory...</td>\n",
              "      <td>0.363636</td>\n",
              "    </tr>\n",
              "    <tr>\n",
              "      <th>451</th>\n",
              "      <td>kp_0_10</td>\n",
              "      <td>Children should be vaccinated against diseases...</td>\n",
              "      <td>Routine child vaccinations should be mandatory</td>\n",
              "      <td>1</td>\n",
              "      <td>Routine child vaccinations should be mandatory...</td>\n",
              "      <td>0.363636</td>\n",
              "    </tr>\n",
              "    <tr>\n",
              "      <th>646</th>\n",
              "      <td>kp_0_10</td>\n",
              "      <td>Parents should be permitted to choose the vacc...</td>\n",
              "      <td>Routine child vaccinations should be mandatory</td>\n",
              "      <td>1</td>\n",
              "      <td>Routine child vaccinations should be mandatory...</td>\n",
              "      <td>0.363636</td>\n",
              "    </tr>\n",
              "    <tr>\n",
              "      <th>486</th>\n",
              "      <td>kp_0_10</td>\n",
              "      <td>Children should be vaccinated against diseases</td>\n",
              "      <td>Routine child vaccinations should be mandatory</td>\n",
              "      <td>1</td>\n",
              "      <td>Routine child vaccinations should be mandatory...</td>\n",
              "      <td>0.363636</td>\n",
              "    </tr>\n",
              "    <tr>\n",
              "      <th>647</th>\n",
              "      <td>kp_0_10</td>\n",
              "      <td>Parents should be permitted to choose the vacc...</td>\n",
              "      <td>Routine child vaccinations should be mandatory</td>\n",
              "      <td>1</td>\n",
              "      <td>Children should not suffer from preventable di...</td>\n",
              "      <td>0.285714</td>\n",
              "    </tr>\n",
              "    <tr>\n",
              "      <th>682</th>\n",
              "      <td>kp_0_10</td>\n",
              "      <td>Parents should be permitted to choose the educ...</td>\n",
              "      <td>Routine child vaccinations should be mandatory</td>\n",
              "      <td>1</td>\n",
              "      <td>Children should not suffer from preventable di...</td>\n",
              "      <td>0.285714</td>\n",
              "    </tr>\n",
              "    <tr>\n",
              "      <th>681</th>\n",
              "      <td>kp_0_10</td>\n",
              "      <td>Parents should be permitted to choose the educ...</td>\n",
              "      <td>Routine child vaccinations should be mandatory</td>\n",
              "      <td>1</td>\n",
              "      <td>Routine child vaccinations should be mandatory...</td>\n",
              "      <td>0.272727</td>\n",
              "    </tr>\n",
              "    <tr>\n",
              "      <th>645</th>\n",
              "      <td>kp_0_10</td>\n",
              "      <td>Parents should be permitted to choose the vacc...</td>\n",
              "      <td>Routine child vaccinations should be mandatory</td>\n",
              "      <td>1</td>\n",
              "      <td>Routine child vaccinations are necessary to pr...</td>\n",
              "      <td>0.250000</td>\n",
              "    </tr>\n",
              "    <tr>\n",
              "      <th>1149</th>\n",
              "      <td>kp_0_10</td>\n",
              "      <td>Parents are not adequately informed about the ...</td>\n",
              "      <td>Routine child vaccinations should be mandatory</td>\n",
              "      <td>1</td>\n",
              "      <td>Child vaccination saves lives</td>\n",
              "      <td>0.250000</td>\n",
              "    </tr>\n",
              "    <tr>\n",
              "      <th>484</th>\n",
              "      <td>kp_0_10</td>\n",
              "      <td>Children should be vaccinated against diseases</td>\n",
              "      <td>Routine child vaccinations should be mandatory</td>\n",
              "      <td>1</td>\n",
              "      <td>Child vaccination saves lives</td>\n",
              "      <td>0.250000</td>\n",
              "    </tr>\n",
              "    <tr>\n",
              "      <th>644</th>\n",
              "      <td>kp_0_10</td>\n",
              "      <td>Parents should be permitted to choose the vacc...</td>\n",
              "      <td>Routine child vaccinations should be mandatory</td>\n",
              "      <td>1</td>\n",
              "      <td>Child vaccination saves lives</td>\n",
              "      <td>0.250000</td>\n",
              "    </tr>\n",
              "    <tr>\n",
              "      <th>1285</th>\n",
              "      <td>kp_0_10</td>\n",
              "      <td>Parents will have more ability to pay-attentio...</td>\n",
              "      <td>Routine child vaccinations should be mandatory</td>\n",
              "      <td>1</td>\n",
              "      <td>Routine child vaccinations are necessary to pr...</td>\n",
              "      <td>0.250000</td>\n",
              "    </tr>\n",
              "    <tr>\n",
              "      <th>449</th>\n",
              "      <td>kp_0_10</td>\n",
              "      <td>Children should be vaccinated against diseases...</td>\n",
              "      <td>Routine child vaccinations should be mandatory</td>\n",
              "      <td>1</td>\n",
              "      <td>Child vaccination saves lives</td>\n",
              "      <td>0.250000</td>\n",
              "    </tr>\n",
              "    <tr>\n",
              "      <th>1150</th>\n",
              "      <td>kp_0_10</td>\n",
              "      <td>Parents are not adequately informed about the ...</td>\n",
              "      <td>Routine child vaccinations should be mandatory</td>\n",
              "      <td>1</td>\n",
              "      <td>Routine child vaccinations are necessary to pr...</td>\n",
              "      <td>0.250000</td>\n",
              "    </tr>\n",
              "    <tr>\n",
              "      <th>1284</th>\n",
              "      <td>kp_0_10</td>\n",
              "      <td>Parents will have more ability to pay-attentio...</td>\n",
              "      <td>Routine child vaccinations should be mandatory</td>\n",
              "      <td>1</td>\n",
              "      <td>Child vaccination saves lives</td>\n",
              "      <td>0.250000</td>\n",
              "    </tr>\n",
              "    <tr>\n",
              "      <th>1073</th>\n",
              "      <td>kp_0_10</td>\n",
              "      <td>Parents are not qualified as medical professio...</td>\n",
              "      <td>Routine child vaccinations should be mandatory</td>\n",
              "      <td>1</td>\n",
              "      <td>Routine child vaccinations are effective</td>\n",
              "      <td>0.200000</td>\n",
              "    </tr>\n",
              "    <tr>\n",
              "      <th>1283</th>\n",
              "      <td>kp_0_10</td>\n",
              "      <td>Parents will have more ability to pay-attentio...</td>\n",
              "      <td>Routine child vaccinations should be mandatory</td>\n",
              "      <td>1</td>\n",
              "      <td>Routine child vaccinations are effective</td>\n",
              "      <td>0.200000</td>\n",
              "    </tr>\n",
              "    <tr>\n",
              "      <th>448</th>\n",
              "      <td>kp_0_10</td>\n",
              "      <td>Children should be vaccinated against diseases...</td>\n",
              "      <td>Routine child vaccinations should be mandatory</td>\n",
              "      <td>1</td>\n",
              "      <td>Routine child vaccinations are effective</td>\n",
              "      <td>0.200000</td>\n",
              "    </tr>\n",
              "    <tr>\n",
              "      <th>483</th>\n",
              "      <td>kp_0_10</td>\n",
              "      <td>Children should be vaccinated against diseases</td>\n",
              "      <td>Routine child vaccinations should be mandatory</td>\n",
              "      <td>1</td>\n",
              "      <td>Routine child vaccinations are effective</td>\n",
              "      <td>0.200000</td>\n",
              "    </tr>\n",
              "    <tr>\n",
              "      <th>643</th>\n",
              "      <td>kp_0_10</td>\n",
              "      <td>Parents should be permitted to choose the vacc...</td>\n",
              "      <td>Routine child vaccinations should be mandatory</td>\n",
              "      <td>1</td>\n",
              "      <td>Routine child vaccinations are effective</td>\n",
              "      <td>0.200000</td>\n",
              "    </tr>\n",
              "    <tr>\n",
              "      <th>1286</th>\n",
              "      <td>kp_0_10</td>\n",
              "      <td>Parents will have more ability to pay-attentio...</td>\n",
              "      <td>Routine child vaccinations should be mandatory</td>\n",
              "      <td>1</td>\n",
              "      <td>Routine child vaccinations should be mandatory...</td>\n",
              "      <td>0.181818</td>\n",
              "    </tr>\n",
              "    <tr>\n",
              "      <th>707</th>\n",
              "      <td>kp_0_10</td>\n",
              "      <td>Child vaccinations are necessary to protect ag...</td>\n",
              "      <td>Routine child vaccinations should be mandatory</td>\n",
              "      <td>1</td>\n",
              "      <td>Children should not suffer from preventable di...</td>\n",
              "      <td>0.142857</td>\n",
              "    </tr>\n",
              "    <tr>\n",
              "      <th>1077</th>\n",
              "      <td>kp_0_10</td>\n",
              "      <td>Parents are not qualified as medical professio...</td>\n",
              "      <td>Routine child vaccinations should be mandatory</td>\n",
              "      <td>1</td>\n",
              "      <td>Children should not suffer from preventable di...</td>\n",
              "      <td>0.142857</td>\n",
              "    </tr>\n",
              "    <tr>\n",
              "      <th>817</th>\n",
              "      <td>kp_0_10</td>\n",
              "      <td>A mandatory vaccination is important to protec...</td>\n",
              "      <td>Routine child vaccinations should be mandatory</td>\n",
              "      <td>1</td>\n",
              "      <td>Children should not suffer from preventable di...</td>\n",
              "      <td>0.142857</td>\n",
              "    </tr>\n",
              "    <tr>\n",
              "      <th>1152</th>\n",
              "      <td>kp_0_10</td>\n",
              "      <td>Parents are not adequately informed about the ...</td>\n",
              "      <td>Routine child vaccinations should be mandatory</td>\n",
              "      <td>1</td>\n",
              "      <td>Children should not suffer from preventable di...</td>\n",
              "      <td>0.142857</td>\n",
              "    </tr>\n",
              "    <tr>\n",
              "      <th>485</th>\n",
              "      <td>kp_0_10</td>\n",
              "      <td>Children should be vaccinated against diseases</td>\n",
              "      <td>Routine child vaccinations should be mandatory</td>\n",
              "      <td>1</td>\n",
              "      <td>Routine child vaccinations are necessary to pr...</td>\n",
              "      <td>0.125000</td>\n",
              "    </tr>\n",
              "    <tr>\n",
              "      <th>680</th>\n",
              "      <td>kp_0_10</td>\n",
              "      <td>Parents should be permitted to choose the educ...</td>\n",
              "      <td>Routine child vaccinations should be mandatory</td>\n",
              "      <td>1</td>\n",
              "      <td>Routine child vaccinations are necessary to pr...</td>\n",
              "      <td>0.125000</td>\n",
              "    </tr>\n",
              "    <tr>\n",
              "      <th>1075</th>\n",
              "      <td>kp_0_10</td>\n",
              "      <td>Parents are not qualified as medical professio...</td>\n",
              "      <td>Routine child vaccinations should be mandatory</td>\n",
              "      <td>1</td>\n",
              "      <td>Routine child vaccinations are necessary to pr...</td>\n",
              "      <td>0.125000</td>\n",
              "    </tr>\n",
              "    <tr>\n",
              "      <th>450</th>\n",
              "      <td>kp_0_10</td>\n",
              "      <td>Children should be vaccinated against diseases...</td>\n",
              "      <td>Routine child vaccinations should be mandatory</td>\n",
              "      <td>1</td>\n",
              "      <td>Routine child vaccinations are necessary to pr...</td>\n",
              "      <td>0.125000</td>\n",
              "    </tr>\n",
              "    <tr>\n",
              "      <th>1151</th>\n",
              "      <td>kp_0_10</td>\n",
              "      <td>Parents are not adequately informed about the ...</td>\n",
              "      <td>Routine child vaccinations should be mandatory</td>\n",
              "      <td>1</td>\n",
              "      <td>Routine child vaccinations should be mandatory...</td>\n",
              "      <td>0.090909</td>\n",
              "    </tr>\n",
              "    <tr>\n",
              "      <th>678</th>\n",
              "      <td>kp_0_10</td>\n",
              "      <td>Parents should be permitted to choose the educ...</td>\n",
              "      <td>Routine child vaccinations should be mandatory</td>\n",
              "      <td>1</td>\n",
              "      <td>Routine child vaccinations are effective</td>\n",
              "      <td>0.000000</td>\n",
              "    </tr>\n",
              "    <tr>\n",
              "      <th>679</th>\n",
              "      <td>kp_0_10</td>\n",
              "      <td>Parents should be permitted to choose the educ...</td>\n",
              "      <td>Routine child vaccinations should be mandatory</td>\n",
              "      <td>1</td>\n",
              "      <td>Child vaccination saves lives</td>\n",
              "      <td>0.000000</td>\n",
              "    </tr>\n",
              "    <tr>\n",
              "      <th>1076</th>\n",
              "      <td>kp_0_10</td>\n",
              "      <td>Parents are not qualified as medical professio...</td>\n",
              "      <td>Routine child vaccinations should be mandatory</td>\n",
              "      <td>1</td>\n",
              "      <td>Routine child vaccinations should be mandatory...</td>\n",
              "      <td>0.000000</td>\n",
              "    </tr>\n",
              "    <tr>\n",
              "      <th>1074</th>\n",
              "      <td>kp_0_10</td>\n",
              "      <td>Parents are not qualified as medical professio...</td>\n",
              "      <td>Routine child vaccinations should be mandatory</td>\n",
              "      <td>1</td>\n",
              "      <td>Child vaccination saves lives</td>\n",
              "      <td>0.000000</td>\n",
              "    </tr>\n",
              "    <tr>\n",
              "      <th>1287</th>\n",
              "      <td>kp_0_10</td>\n",
              "      <td>Parents will have more ability to pay-attentio...</td>\n",
              "      <td>Routine child vaccinations should be mandatory</td>\n",
              "      <td>1</td>\n",
              "      <td>Children should not suffer from preventable di...</td>\n",
              "      <td>0.000000</td>\n",
              "    </tr>\n",
              "  </tbody>\n",
              "</table>\n",
              "</div>"
            ],
            "text/plain": [
              "     key_point_id  ... precision_score\n",
              "705       kp_0_10  ...        0.750000\n",
              "703       kp_0_10  ...        0.600000\n",
              "815       kp_0_10  ...        0.500000\n",
              "704       kp_0_10  ...        0.500000\n",
              "814       kp_0_10  ...        0.500000\n",
              "816       kp_0_10  ...        0.454545\n",
              "452       kp_0_10  ...        0.428571\n",
              "487       kp_0_10  ...        0.428571\n",
              "1148      kp_0_10  ...        0.400000\n",
              "813       kp_0_10  ...        0.400000\n",
              "706       kp_0_10  ...        0.363636\n",
              "451       kp_0_10  ...        0.363636\n",
              "646       kp_0_10  ...        0.363636\n",
              "486       kp_0_10  ...        0.363636\n",
              "647       kp_0_10  ...        0.285714\n",
              "682       kp_0_10  ...        0.285714\n",
              "681       kp_0_10  ...        0.272727\n",
              "645       kp_0_10  ...        0.250000\n",
              "1149      kp_0_10  ...        0.250000\n",
              "484       kp_0_10  ...        0.250000\n",
              "644       kp_0_10  ...        0.250000\n",
              "1285      kp_0_10  ...        0.250000\n",
              "449       kp_0_10  ...        0.250000\n",
              "1150      kp_0_10  ...        0.250000\n",
              "1284      kp_0_10  ...        0.250000\n",
              "1073      kp_0_10  ...        0.200000\n",
              "1283      kp_0_10  ...        0.200000\n",
              "448       kp_0_10  ...        0.200000\n",
              "483       kp_0_10  ...        0.200000\n",
              "643       kp_0_10  ...        0.200000\n",
              "1286      kp_0_10  ...        0.181818\n",
              "707       kp_0_10  ...        0.142857\n",
              "1077      kp_0_10  ...        0.142857\n",
              "817       kp_0_10  ...        0.142857\n",
              "1152      kp_0_10  ...        0.142857\n",
              "485       kp_0_10  ...        0.125000\n",
              "680       kp_0_10  ...        0.125000\n",
              "1075      kp_0_10  ...        0.125000\n",
              "450       kp_0_10  ...        0.125000\n",
              "1151      kp_0_10  ...        0.090909\n",
              "678       kp_0_10  ...        0.000000\n",
              "679       kp_0_10  ...        0.000000\n",
              "1076      kp_0_10  ...        0.000000\n",
              "1074      kp_0_10  ...        0.000000\n",
              "1287      kp_0_10  ...        0.000000\n",
              "\n",
              "[45 rows x 6 columns]"
            ]
          },
          "metadata": {
            "tags": []
          },
          "execution_count": 30
        }
      ]
    },
    {
      "cell_type": "code",
      "metadata": {
        "id": "9b5EiKGQ5FPY"
      },
      "source": [
        "keypoints_csv = pd.concat([df_topic_1_pos_stance.iloc[:10,:],df_topic_1_neg_stance.iloc[:10,:],df_topic_2_pos_stance.iloc[:20,:],df_topic_2_neg_stance.iloc[:20,:],df_topic_3_pos_stance.iloc[:10,:],df_topic_3_neg_stance.iloc[:10,:]])"
      ],
      "execution_count": null,
      "outputs": []
    },
    {
      "cell_type": "code",
      "metadata": {
        "colab": {
          "base_uri": "https://localhost:8080/"
        },
        "id": "6kRN26sw5FMz",
        "outputId": "8eb7f1ef-03bc-4f37-bec3-becb051ffafd"
      },
      "source": [
        "keypoints_csv.shape"
      ],
      "execution_count": null,
      "outputs": [
        {
          "output_type": "execute_result",
          "data": {
            "text/plain": [
              "(70, 6)"
            ]
          },
          "metadata": {
            "tags": []
          },
          "execution_count": 32
        }
      ]
    },
    {
      "cell_type": "code",
      "metadata": {
        "colab": {
          "base_uri": "https://localhost:8080/",
          "height": 203
        },
        "id": "2y2h7xc625Qq",
        "outputId": "a80543d1-905b-400a-a839-0b367f3868be"
      },
      "source": [
        "keypoints_csv.head()"
      ],
      "execution_count": null,
      "outputs": [
        {
          "output_type": "execute_result",
          "data": {
            "text/html": [
              "<div>\n",
              "<style scoped>\n",
              "    .dataframe tbody tr th:only-of-type {\n",
              "        vertical-align: middle;\n",
              "    }\n",
              "\n",
              "    .dataframe tbody tr th {\n",
              "        vertical-align: top;\n",
              "    }\n",
              "\n",
              "    .dataframe thead th {\n",
              "        text-align: right;\n",
              "    }\n",
              "</style>\n",
              "<table border=\"1\" class=\"dataframe\">\n",
              "  <thead>\n",
              "    <tr style=\"text-align: right;\">\n",
              "      <th></th>\n",
              "      <th>key_point_id</th>\n",
              "      <th>key_point</th>\n",
              "      <th>topic</th>\n",
              "      <th>stance</th>\n",
              "      <th>key_point_given</th>\n",
              "      <th>precision_score</th>\n",
              "    </tr>\n",
              "  </thead>\n",
              "  <tbody>\n",
              "    <tr>\n",
              "      <th>705</th>\n",
              "      <td>kp_0_10</td>\n",
              "      <td>Child vaccinations are necessary to protect ag...</td>\n",
              "      <td>Routine child vaccinations should be mandatory</td>\n",
              "      <td>1</td>\n",
              "      <td>Routine child vaccinations are necessary to pr...</td>\n",
              "      <td>0.75</td>\n",
              "    </tr>\n",
              "    <tr>\n",
              "      <th>703</th>\n",
              "      <td>kp_0_10</td>\n",
              "      <td>Child vaccinations are necessary to protect ag...</td>\n",
              "      <td>Routine child vaccinations should be mandatory</td>\n",
              "      <td>1</td>\n",
              "      <td>Routine child vaccinations are effective</td>\n",
              "      <td>0.60</td>\n",
              "    </tr>\n",
              "    <tr>\n",
              "      <th>815</th>\n",
              "      <td>kp_0_10</td>\n",
              "      <td>A mandatory vaccination is important to protec...</td>\n",
              "      <td>Routine child vaccinations should be mandatory</td>\n",
              "      <td>1</td>\n",
              "      <td>Routine child vaccinations are necessary to pr...</td>\n",
              "      <td>0.50</td>\n",
              "    </tr>\n",
              "    <tr>\n",
              "      <th>704</th>\n",
              "      <td>kp_0_10</td>\n",
              "      <td>Child vaccinations are necessary to protect ag...</td>\n",
              "      <td>Routine child vaccinations should be mandatory</td>\n",
              "      <td>1</td>\n",
              "      <td>Child vaccination saves lives</td>\n",
              "      <td>0.50</td>\n",
              "    </tr>\n",
              "    <tr>\n",
              "      <th>814</th>\n",
              "      <td>kp_0_10</td>\n",
              "      <td>A mandatory vaccination is important to protec...</td>\n",
              "      <td>Routine child vaccinations should be mandatory</td>\n",
              "      <td>1</td>\n",
              "      <td>Child vaccination saves lives</td>\n",
              "      <td>0.50</td>\n",
              "    </tr>\n",
              "  </tbody>\n",
              "</table>\n",
              "</div>"
            ],
            "text/plain": [
              "    key_point_id  ... precision_score\n",
              "705      kp_0_10  ...            0.75\n",
              "703      kp_0_10  ...            0.60\n",
              "815      kp_0_10  ...            0.50\n",
              "704      kp_0_10  ...            0.50\n",
              "814      kp_0_10  ...            0.50\n",
              "\n",
              "[5 rows x 6 columns]"
            ]
          },
          "metadata": {
            "tags": []
          },
          "execution_count": 33
        }
      ]
    },
    {
      "cell_type": "code",
      "metadata": {
        "colab": {
          "base_uri": "https://localhost:8080/",
          "height": 203
        },
        "id": "pzKbgyF85Yjn",
        "outputId": "2e74b65a-665c-4a2b-f7e2-52427d2568ad"
      },
      "source": [
        "keypoints_csv= keypoints_csv.drop(['key_point_given', 'precision_score'], axis = 1) \n",
        "keypoints_csv.head()"
      ],
      "execution_count": null,
      "outputs": [
        {
          "output_type": "execute_result",
          "data": {
            "text/html": [
              "<div>\n",
              "<style scoped>\n",
              "    .dataframe tbody tr th:only-of-type {\n",
              "        vertical-align: middle;\n",
              "    }\n",
              "\n",
              "    .dataframe tbody tr th {\n",
              "        vertical-align: top;\n",
              "    }\n",
              "\n",
              "    .dataframe thead th {\n",
              "        text-align: right;\n",
              "    }\n",
              "</style>\n",
              "<table border=\"1\" class=\"dataframe\">\n",
              "  <thead>\n",
              "    <tr style=\"text-align: right;\">\n",
              "      <th></th>\n",
              "      <th>key_point_id</th>\n",
              "      <th>key_point</th>\n",
              "      <th>topic</th>\n",
              "      <th>stance</th>\n",
              "    </tr>\n",
              "  </thead>\n",
              "  <tbody>\n",
              "    <tr>\n",
              "      <th>705</th>\n",
              "      <td>kp_0_10</td>\n",
              "      <td>Child vaccinations are necessary to protect ag...</td>\n",
              "      <td>Routine child vaccinations should be mandatory</td>\n",
              "      <td>1</td>\n",
              "    </tr>\n",
              "    <tr>\n",
              "      <th>703</th>\n",
              "      <td>kp_0_10</td>\n",
              "      <td>Child vaccinations are necessary to protect ag...</td>\n",
              "      <td>Routine child vaccinations should be mandatory</td>\n",
              "      <td>1</td>\n",
              "    </tr>\n",
              "    <tr>\n",
              "      <th>815</th>\n",
              "      <td>kp_0_10</td>\n",
              "      <td>A mandatory vaccination is important to protec...</td>\n",
              "      <td>Routine child vaccinations should be mandatory</td>\n",
              "      <td>1</td>\n",
              "    </tr>\n",
              "    <tr>\n",
              "      <th>704</th>\n",
              "      <td>kp_0_10</td>\n",
              "      <td>Child vaccinations are necessary to protect ag...</td>\n",
              "      <td>Routine child vaccinations should be mandatory</td>\n",
              "      <td>1</td>\n",
              "    </tr>\n",
              "    <tr>\n",
              "      <th>814</th>\n",
              "      <td>kp_0_10</td>\n",
              "      <td>A mandatory vaccination is important to protec...</td>\n",
              "      <td>Routine child vaccinations should be mandatory</td>\n",
              "      <td>1</td>\n",
              "    </tr>\n",
              "  </tbody>\n",
              "</table>\n",
              "</div>"
            ],
            "text/plain": [
              "    key_point_id  ... stance\n",
              "705      kp_0_10  ...      1\n",
              "703      kp_0_10  ...      1\n",
              "815      kp_0_10  ...      1\n",
              "704      kp_0_10  ...      1\n",
              "814      kp_0_10  ...      1\n",
              "\n",
              "[5 rows x 4 columns]"
            ]
          },
          "metadata": {
            "tags": []
          },
          "execution_count": 34
        }
      ]
    },
    {
      "cell_type": "code",
      "metadata": {
        "colab": {
          "base_uri": "https://localhost:8080/"
        },
        "id": "1aLIWKPu5j5c",
        "outputId": "a1c82db4-6d9f-45a8-c544-ee19678f942b"
      },
      "source": [
        "keypoints_csv.shape"
      ],
      "execution_count": null,
      "outputs": [
        {
          "output_type": "execute_result",
          "data": {
            "text/plain": [
              "(70, 4)"
            ]
          },
          "metadata": {
            "tags": []
          },
          "execution_count": 35
        }
      ]
    },
    {
      "cell_type": "code",
      "metadata": {
        "colab": {
          "base_uri": "https://localhost:8080/"
        },
        "id": "0lWrwHGEe-rm",
        "outputId": "c46e2bb9-f94f-49bb-95a2-57e3972f1201"
      },
      "source": [
        "keypoints_csv = keypoints_csv.drop_duplicates()\n",
        "keypoints_csv.shape"
      ],
      "execution_count": null,
      "outputs": [
        {
          "output_type": "execute_result",
          "data": {
            "text/plain": [
              "(38, 4)"
            ]
          },
          "metadata": {
            "tags": []
          },
          "execution_count": 36
        }
      ]
    },
    {
      "cell_type": "markdown",
      "metadata": {
        "id": "mLcRptrOTFhN"
      },
      "source": [
        "#### Confirming whether we have atleast 5 keypoints belonging to each +1 and -1 stance"
      ]
    },
    {
      "cell_type": "code",
      "metadata": {
        "id": "vqx6a11VfKt-"
      },
      "source": [
        "df = keypoints_csv.groupby(\"topic\")"
      ],
      "execution_count": null,
      "outputs": []
    },
    {
      "cell_type": "code",
      "metadata": {
        "colab": {
          "base_uri": "https://localhost:8080/"
        },
        "id": "hNr-HTolfKrY",
        "outputId": "bab99763-60d8-4cc5-98f7-33fe391e9e58"
      },
      "source": [
        "df.get_group('Routine child vaccinations should be mandatory')['stance'].value_counts()"
      ],
      "execution_count": null,
      "outputs": [
        {
          "output_type": "execute_result",
          "data": {
            "text/plain": [
              "-1    7\n",
              " 1    5\n",
              "Name: stance, dtype: int64"
            ]
          },
          "metadata": {
            "tags": []
          },
          "execution_count": 38
        }
      ]
    },
    {
      "cell_type": "code",
      "metadata": {
        "colab": {
          "base_uri": "https://localhost:8080/"
        },
        "id": "9jxh17IFfKo5",
        "outputId": "3b5382e4-24d7-4b19-87b9-396af5a89734"
      },
      "source": [
        "df.get_group('Social media platforms should be regulated by the government')['stance'].value_counts()"
      ],
      "execution_count": null,
      "outputs": [
        {
          "output_type": "execute_result",
          "data": {
            "text/plain": [
              " 1    7\n",
              "-1    2\n",
              "Name: stance, dtype: int64"
            ]
          },
          "metadata": {
            "tags": []
          },
          "execution_count": 39
        }
      ]
    },
    {
      "cell_type": "code",
      "metadata": {
        "colab": {
          "base_uri": "https://localhost:8080/"
        },
        "id": "w6rU_iUCfKmY",
        "outputId": "8a018a6b-c6d6-49de-b347-77bd069ecf97"
      },
      "source": [
        "df.get_group('The USA is a good country to live in')['stance'].value_counts()"
      ],
      "execution_count": null,
      "outputs": [
        {
          "output_type": "execute_result",
          "data": {
            "text/plain": [
              " 1    10\n",
              "-1     7\n",
              "Name: stance, dtype: int64"
            ]
          },
          "metadata": {
            "tags": []
          },
          "execution_count": 40
        }
      ]
    },
    {
      "cell_type": "markdown",
      "metadata": {
        "id": "7ou83Q-zTRGj"
      },
      "source": [
        "## Saving the key_points.csv file"
      ]
    },
    {
      "cell_type": "code",
      "metadata": {
        "id": "eQbCmKwNrmg_"
      },
      "source": [
        "keypoints_csv.to_csv('/content/drive/MyDrive/EMNLP_folder_4/gen_key_points_predictions/track_2_key_points.csv')"
      ],
      "execution_count": null,
      "outputs": []
    }
  ]
}